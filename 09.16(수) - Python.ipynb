{
 "cells": [
  {
   "cell_type": "markdown",
   "metadata": {},
   "source": [
    "# Pandas\n",
    "\n",
    "1. 자료구조 기능, 전처리 기능, 데이터 분석 기능, SpreadSHeet 기능 보유.\n",
    "    \n",
    "    1-1. 자료구조\n",
    "        - Numpy(ndarray) + dict 구조. 검색속도 및 처리속도 빠름.\n",
    "        - 열 중심 저장방식.\n",
    "        - Dict의 key를 열, value를 행으로 인덱스 표시.\n",
    "        - iloc(숫자), loc(key): 행, 열\n",
    "    1-2. 데이터 처리\n",
    "        - 3A : Accuracy, Actionalble, Agile\n",
    "        - Wrangling, Munging 데이터 변환.\n",
    "        - 전처리\n",
    "            - 결측치 : isNa, notnull, fillNa(평균 or knn(유사도) or 0), dropNa\n",
    "            - 이상치 : 3사분위수 + IQR(3-1사분면) * 1.5,\n",
    "                       1사분위수 - IQR(3-1사분면) * 1.5\n",
    "                       Boolean 연산으로 filtering\n",
    "            - 범주형 : Categorical(), cut(), get_dummy()\n",
    "            - 정규화 : min-max 정규화 (0~1 범위로 만들어주는 과정. 변수 간 중요도 동일시.)\n",
    "                     : Z점수 정규화.\n",
    "                     : Robust 정규화.\n",
    "                     : Nomalization(사이즈 1로 방향 정규화).\n",
    "            - 시각화 : matplotlib, pandas\n",
    "            - 함수의 적용 : map(Seires 적용)\n",
    "                            apply(열별, 행별)\n",
    "                            applymap(DataFrame 적용)\n",
    "            - 문자열 처리 : 일반함수(string)\n",
    "                            정규표현식\n",
    "                            메타문자열(\\d - 숫자 / \\D - 숫자제외 / \\s - 공백 / \\n\\t \\w\n",
    "            - 데이터 변환 : astype(형변환), to_csv, to_sql, to_json\n",
    "    1-3. 분석\n",
    "        - 통계처리(var, std, skew, kurt, cov, corr(상관계수)\n",
    "        - 회귀분석, 최소제곱법, 분산, 공분산, 상관계수, 평균\n",
    "\n",
    "2. 종류\n",
    "    - Series    : 1차원.\n",
    "    - DataFrame : 2차원.\n",
    "    - Pannel    : 3차원.\n",
    "\n"
   ]
  },
  {
   "cell_type": "markdown",
   "metadata": {},
   "source": [
    "# 판다스 자료구조"
   ]
  },
  {
   "cell_type": "code",
   "execution_count": 10,
   "metadata": {},
   "outputs": [
    {
     "name": "stdout",
     "output_type": "stream",
     "text": [
      "0.0\n",
      "[1.0, 2.0, nan, 0.0] \n",
      "\n",
      "dict_keys(['a', 'b', 'c'])\n",
      "dict_values([0.0, 1.0, 2.0])\n",
      "dict_items([('a', 0.0), ('b', 1.0), ('c', 2.0)]) \n",
      "\n",
      "인덱스에 의한 출력 :  1\n",
      "1\n",
      "a    1\n",
      "b    2\n",
      "c    3\n",
      "d    4\n",
      "dtype: int64\n",
      "a    1\n",
      "b    2\n",
      "c    3\n",
      "dtype: int64\n",
      "음수 ;  3\n"
     ]
    }
   ],
   "source": [
    "import pandas as pd\n",
    "data = {'a':0., 'b':1., 'c':2.}\n",
    "s = pd.Series(data)\n",
    "print(s['a'])\n",
    "s = pd.Series(data, index=['b', 'c', 'd', 'a'])  # key의 순서를 보장하고 중복을 허용.\n",
    "print(list(s), '\\n')\n",
    "\n",
    "print(data.keys())\n",
    "print(data.values())\n",
    "print(data.items(), '\\n')"
   ]
  },
  {
   "cell_type": "code",
   "execution_count": 13,
   "metadata": {},
   "outputs": [
    {
     "name": "stdout",
     "output_type": "stream",
     "text": [
      "인덱스에 의한 출력 :  1\n",
      "1\n",
      "a    1\n",
      "b    2\n",
      "c    3\n",
      "d    4\n",
      "dtype: int64\n",
      "a    1\n",
      "b    2\n",
      "c    3\n",
      "dtype: int64\n",
      "음수 ;  3 \n",
      "\n",
      "100 \n",
      "\n",
      "filtering에 의한 출력 :  a    100\n",
      "e      5\n",
      "dtype: int64\n"
     ]
    }
   ],
   "source": [
    "s = pd.Series([1,2,3,4,5], index = ['a','b','c','d','e'])\n",
    "print('인덱스에 의한 출력 : ', s[0])\n",
    "print(s['a'])\n",
    "print(s['a':'d'])\n",
    "print(s[:3])\n",
    "print('음수 ; ', s[-3], '\\n')\n",
    "\n",
    "s['a'] = 100\n",
    "print(s['a'], '\\n')\n",
    "\n",
    "print('filtering에 의한 출력 : ', s[s>4])"
   ]
  },
  {
   "cell_type": "code",
   "execution_count": 21,
   "metadata": {},
   "outputs": [
    {
     "name": "stdout",
     "output_type": "stream",
     "text": [
      "시리즈 데이터 ['a' 'b' 'c' 'd']\n",
      "시리즈 인덱스 RangeIndex(start=0, stop=4, step=1)\n",
      "시리즈 초기화 0    a\n",
      "1    b\n",
      "2    c\n",
      "3    d\n",
      "dtype: object\n",
      "시리즈 인덱스의 값 [0 1 2 3]\n",
      "0    a\n",
      "1    b\n",
      "2    c\n",
      "3    d\n",
      "dtype: object\n",
      "d    1\n",
      "b    1\n",
      "c    1\n",
      "a    1\n",
      "dtype: int64\n",
      "d    0.25\n",
      "b    0.25\n",
      "c    0.25\n",
      "a    0.25\n",
      "dtype: float64\n",
      "count     4\n",
      "unique    4\n",
      "top       d\n",
      "freq      1\n",
      "dtype: object\n"
     ]
    }
   ],
   "source": [
    "import numpy as np\n",
    "\n",
    "data = np.array(['a','b','c','d'])\n",
    "s = pd.Series(data)\n",
    "print('시리즈 데이터', s.values)\n",
    "print('시리즈 인덱스', s.index)  # index 자동화\n",
    "print('시리즈 초기화', s)\n",
    "print('시리즈 인덱스의 값', s.index.values)\n",
    "print(s.head()) # tail()\n",
    "print(s.value_counts())    # 도수분포표\n",
    "print(s.value_counts(normalize = True))    # 상대도수분포표\n",
    "print(s.describe())"
   ]
  },
  {
   "cell_type": "code",
   "execution_count": 38,
   "metadata": {},
   "outputs": [
    {
     "name": "stdout",
     "output_type": "stream",
     "text": [
      "차수 :  (4,)\n",
      "시리즈 인덱스 타입 :  Index(['Ohio', 'Texas', 'Oregon', 'Utah'], dtype='object')\n",
      "\n",
      "객체 출력 : \n",
      " Ohio      35000\n",
      "Texas     71000\n",
      "Oregon    16000\n",
      "Utah       5000\n",
      "dtype: int64 \n",
      "\n",
      "null이 있는가? : \n",
      " California     True\n",
      "Ohio          False\n",
      "Oregan        False\n",
      "Texas         False\n",
      "dtype: bool\n",
      "\n",
      "연산 결과 : \n",
      " California         NaN\n",
      "Ohio           70000.0\n",
      "Oregan         32000.0\n",
      "Texas         142000.0\n",
      "Utah               NaN\n",
      "dtype: float64\n"
     ]
    }
   ],
   "source": [
    "# 다음 데이터를 확인하시오.\n",
    "# 차수, 시리즈 인덱스 타입, 객체출력\n",
    "\n",
    "sdata = {'Ohio':35000, 'Texas':71000, 'Oregan':16000, 'Utah':5000}\n",
    "states = ['California', 'Ohio', 'Oregan', 'Texas']\n",
    "obj01 = pd.Series(sdata)\n",
    "obj02 = pd.Series(sdata, index=states)\n",
    "\n",
    "print('차수 : ', obj.shape)\n",
    "print('시리즈 인덱스 타입 : ', obj.index)\n",
    "print('\\n객체 출력 : \\n',obj, '\\n')\n",
    "\n",
    "print('null이 있는가? : \\n', pd.isnull(obj02))\n",
    "print('\\n연산 결과 : \\n', obj01 + obj02)"
   ]
  },
  {
   "cell_type": "code",
   "execution_count": 39,
   "metadata": {},
   "outputs": [
    {
     "data": {
      "text/plain": [
       "0    0.0\n",
       "1    0.0\n",
       "2    2.0\n",
       "3    2.0\n",
       "4    NaN\n",
       "5    0.0\n",
       "6    1.0\n",
       "dtype: float64"
      ]
     },
     "execution_count": 39,
     "metadata": {},
     "output_type": "execute_result"
    }
   ],
   "source": [
    "s = pd.Series(['A', 'B', 'Aaba', 'Baca', np.nan, 'CABA', 'cat'])\n",
    "s.str.count('a')"
   ]
  },
  {
   "cell_type": "code",
   "execution_count": 41,
   "metadata": {},
   "outputs": [
    {
     "data": {
      "image/png": "[encoded data removed]",
      "text/plain": [
       "<Figure size 432x288 with 1 Axes>"
      ]
     },
     "metadata": {
      "needs_background": "light"
     },
     "output_type": "display_data"
    }
   ],
   "source": [
    "import matplotlib.pyplot as plt\n",
    "data = np.random.randn(25, 4)\n",
    "df = pd.DataFrame(data, columns = list('ABCD'))\n",
    "ax = df.plot.box()\n",
    "plt.show()"
   ]
  },
  {
   "cell_type": "code",
   "execution_count": 42,
   "metadata": {},
   "outputs": [
    {
     "data": {
      "image/png": "[encoded data removed]",
      "text/plain": [
       "<Figure size 432x288 with 1 Axes>"
      ]
     },
     "metadata": {
      "needs_background": "light"
     },
     "output_type": "display_data"
    }
   ],
   "source": [
    "s = pd.Series([1, 2 ,2.5, 3, 3.5, 4, 5])\n",
    "s.plot.kde()    # Kennel Density etimator. 보간법을 사용하여 중간 값 채우기.\n",
    "plt.show()"
   ]
  },
  {
   "cell_type": "code",
   "execution_count": 43,
   "metadata": {},
   "outputs": [
    {
     "data": {
      "text/html": [
       "<div>\n",
       "<style scoped>\n",
       "    .dataframe tbody tr th:only-of-type {\n",
       "        vertical-align: middle;\n",
       "    }\n",
       "\n",
       "    .dataframe tbody tr th {\n",
       "        vertical-align: top;\n",
       "    }\n",
       "\n",
       "    .dataframe thead th {\n",
       "        text-align: right;\n",
       "    }\n",
       "</style>\n",
       "<table border=\"1\" class=\"dataframe\">\n",
       "  <thead>\n",
       "    <tr style=\"text-align: right;\">\n",
       "      <th></th>\n",
       "      <th>area</th>\n",
       "      <th>pop</th>\n",
       "    </tr>\n",
       "  </thead>\n",
       "  <tbody>\n",
       "    <tr>\n",
       "      <th>서울</th>\n",
       "      <td>423967</td>\n",
       "      <td>38332521</td>\n",
       "    </tr>\n",
       "    <tr>\n",
       "      <th>부산</th>\n",
       "      <td>695662</td>\n",
       "      <td>26448193</td>\n",
       "    </tr>\n",
       "    <tr>\n",
       "      <th>대전</th>\n",
       "      <td>141297</td>\n",
       "      <td>19651127</td>\n",
       "    </tr>\n",
       "    <tr>\n",
       "      <th>청주</th>\n",
       "      <td>170312</td>\n",
       "      <td>1955860</td>\n",
       "    </tr>\n",
       "    <tr>\n",
       "      <th>수원</th>\n",
       "      <td>149995</td>\n",
       "      <td>12882135</td>\n",
       "    </tr>\n",
       "  </tbody>\n",
       "</table>\n",
       "</div>"
      ],
      "text/plain": [
       "      area       pop\n",
       "서울  423967  38332521\n",
       "부산  695662  26448193\n",
       "대전  141297  19651127\n",
       "청주  170312   1955860\n",
       "수원  149995  12882135"
      ]
     },
     "execution_count": 43,
     "metadata": {},
     "output_type": "execute_result"
    }
   ],
   "source": [
    "area = pd.Series({'서울':423967, '부산':695662, '대전':141297,\n",
    "                 '청주': 170312, '수원':149995})\n",
    "pop = pd.Series({'서울':38332521, '부산':26448193, '대전':19651127,\n",
    "                '청주': 1955860, '수원':12882135})\n",
    "data=pd.DataFrame({'area':area, 'pop':pop})\n",
    "data "
   ]
  },
  {
   "cell_type": "code",
   "execution_count": 57,
   "metadata": {},
   "outputs": [
    {
     "name": "stdout",
     "output_type": "stream",
     "text": [
      "area    int64\n",
      "pop     int64\n",
      "dtype: object\n",
      "2\n",
      "(5, 2)\n",
      "<class 'pandas.core.frame.DataFrame'>\n",
      "Index: 5 entries, 서울 to 수원\n",
      "Data columns (total 2 columns):\n",
      " #   Column  Non-Null Count  Dtype\n",
      "---  ------  --------------  -----\n",
      " 0   area    5 non-null      int64\n",
      " 1   pop     5 non-null      int64\n",
      "dtypes: int64(2)\n",
      "memory usage: 280.0+ bytes\n"
     ]
    }
   ],
   "source": [
    "print(data.dtypes)\n",
    "print(data.ndim)\n",
    "print(data.shape)\n",
    "\n",
    "data['area'][1]\n",
    "data['area']['서울']\n",
    "\n",
    "data.loc['청주']\n",
    "data.loc['청주', 'area']\n",
    "data.iloc[1,1]\n",
    "\n",
    "data.info()"
   ]
  },
  {
   "cell_type": "code",
   "execution_count": 64,
   "metadata": {},
   "outputs": [
    {
     "name": "stdout",
     "output_type": "stream",
     "text": [
      "[[4.23967000e+05 3.83325210e+07 9.04139261e+01]\n",
      " [6.95662000e+05 2.64481930e+07 3.80187404e+01]\n",
      " [1.41297000e+05 1.96511270e+07 1.39076746e+02]\n",
      " [1.70312000e+05 1.95586000e+06 1.14839823e+01]\n",
      " [1.49995000e+05 1.28821350e+07 8.58837628e+01]]\n"
     ]
    },
    {
     "data": {
      "text/html": [
       "<div>\n",
       "<style scoped>\n",
       "    .dataframe tbody tr th:only-of-type {\n",
       "        vertical-align: middle;\n",
       "    }\n",
       "\n",
       "    .dataframe tbody tr th {\n",
       "        vertical-align: top;\n",
       "    }\n",
       "\n",
       "    .dataframe thead th {\n",
       "        text-align: right;\n",
       "    }\n",
       "</style>\n",
       "<table border=\"1\" class=\"dataframe\">\n",
       "  <thead>\n",
       "    <tr style=\"text-align: right;\">\n",
       "      <th></th>\n",
       "      <th>pop</th>\n",
       "      <th>density</th>\n",
       "    </tr>\n",
       "  </thead>\n",
       "  <tbody>\n",
       "    <tr>\n",
       "      <th>대전</th>\n",
       "      <td>19651127</td>\n",
       "      <td>139.076746</td>\n",
       "    </tr>\n",
       "  </tbody>\n",
       "</table>\n",
       "</div>"
      ],
      "text/plain": [
       "         pop     density\n",
       "대전  19651127  139.076746"
      ]
     },
     "execution_count": 64,
     "metadata": {},
     "output_type": "execute_result"
    }
   ],
   "source": [
    "data['density'] = data['pop'] / data['area']\n",
    "print(data.values)\n",
    "data.loc[:'서울', :'pop']\n",
    "data.loc[data.density>100, ['pop', 'density']]"
   ]
  },
  {
   "cell_type": "code",
   "execution_count": 86,
   "metadata": {},
   "outputs": [
    {
     "name": "stdout",
     "output_type": "stream",
     "text": [
      "데이터 타입 : \n",
      " Name       object\n",
      "Age       float64\n",
      "Rating    float64\n",
      "dtype: object \n",
      "\n",
      "사이즈 :  24 \n",
      "\n",
      "값 : \n",
      " [['김하나' 25.0 4.23]\n",
      " ['이하나' 26.0 3.24]\n",
      " ['삼하나' 25.0 3.98]\n",
      " ['사하나' 23.0 2.56]\n",
      " ['오하나' 30.0 3.2]\n",
      " ['육하나' 29.0 4.6]\n",
      " ['칠하나' 23.0 3.8]\n",
      " ['팔하나' nan nan]] \n",
      "\n",
      "열 :  Index(['Name', 'Age', 'Rating'], dtype='object') \n",
      "\n",
      "축 :  [RangeIndex(start=0, stop=8, step=1), Index(['Name', 'Age', 'Rating'], dtype='object')] \n",
      "\n",
      "인덱스 :  False \n",
      "\n",
      "설명 \n",
      "              Age    Rating\n",
      "count   7.000000  7.000000\n",
      "mean   25.857143  3.658571\n",
      "std     2.734262  0.698628\n",
      "min    23.000000  2.560000\n",
      "25%    24.000000  3.220000\n",
      "50%    25.000000  3.800000\n",
      "75%    27.500000  4.105000\n",
      "max    30.000000  4.600000\n",
      "설명 \n",
      "        Name        Age    Rating\n",
      "count     8   7.000000  7.000000\n",
      "unique    8        NaN       NaN\n",
      "top     육하나        NaN       NaN\n",
      "freq      1        NaN       NaN\n",
      "mean    NaN  25.857143  3.658571\n",
      "std     NaN   2.734262  0.698628\n",
      "min     NaN  23.000000  2.560000\n",
      "25%     NaN  24.000000  3.220000\n",
      "50%     NaN  25.000000  3.800000\n",
      "75%     NaN  27.500000  4.105000\n",
      "max     NaN  30.000000  4.600000\n"
     ]
    },
    {
     "data": {
      "text/html": [
       "<div>\n",
       "<style scoped>\n",
       "    .dataframe tbody tr th:only-of-type {\n",
       "        vertical-align: middle;\n",
       "    }\n",
       "\n",
       "    .dataframe tbody tr th {\n",
       "        vertical-align: top;\n",
       "    }\n",
       "\n",
       "    .dataframe thead th {\n",
       "        text-align: right;\n",
       "    }\n",
       "</style>\n",
       "<table border=\"1\" class=\"dataframe\">\n",
       "  <thead>\n",
       "    <tr style=\"text-align: right;\">\n",
       "      <th></th>\n",
       "      <th>Name</th>\n",
       "      <th>Age</th>\n",
       "      <th>Rating</th>\n",
       "    </tr>\n",
       "  </thead>\n",
       "  <tbody>\n",
       "    <tr>\n",
       "      <th>0</th>\n",
       "      <td>김하나</td>\n",
       "      <td>25.0</td>\n",
       "      <td>4.23</td>\n",
       "    </tr>\n",
       "    <tr>\n",
       "      <th>1</th>\n",
       "      <td>이하나</td>\n",
       "      <td>26.0</td>\n",
       "      <td>3.24</td>\n",
       "    </tr>\n",
       "    <tr>\n",
       "      <th>2</th>\n",
       "      <td>삼하나</td>\n",
       "      <td>25.0</td>\n",
       "      <td>3.98</td>\n",
       "    </tr>\n",
       "    <tr>\n",
       "      <th>3</th>\n",
       "      <td>사하나</td>\n",
       "      <td>23.0</td>\n",
       "      <td>2.56</td>\n",
       "    </tr>\n",
       "    <tr>\n",
       "      <th>4</th>\n",
       "      <td>오하나</td>\n",
       "      <td>30.0</td>\n",
       "      <td>3.20</td>\n",
       "    </tr>\n",
       "    <tr>\n",
       "      <th>5</th>\n",
       "      <td>육하나</td>\n",
       "      <td>29.0</td>\n",
       "      <td>4.60</td>\n",
       "    </tr>\n",
       "    <tr>\n",
       "      <th>6</th>\n",
       "      <td>칠하나</td>\n",
       "      <td>23.0</td>\n",
       "      <td>3.80</td>\n",
       "    </tr>\n",
       "    <tr>\n",
       "      <th>7</th>\n",
       "      <td>팔하나</td>\n",
       "      <td>NaN</td>\n",
       "      <td>NaN</td>\n",
       "    </tr>\n",
       "  </tbody>\n",
       "</table>\n",
       "</div>"
      ],
      "text/plain": [
       "  Name   Age  Rating\n",
       "0  김하나  25.0    4.23\n",
       "1  이하나  26.0    3.24\n",
       "2  삼하나  25.0    3.98\n",
       "3  사하나  23.0    2.56\n",
       "4  오하나  30.0    3.20\n",
       "5  육하나  29.0    4.60\n",
       "6  칠하나  23.0    3.80\n",
       "7  팔하나   NaN     NaN"
      ]
     },
     "execution_count": 86,
     "metadata": {},
     "output_type": "execute_result"
    }
   ],
   "source": [
    "d = {'Name':pd.Series(['김하나','이하나','삼하나','사하나','오하나','육하나','칠하나', '팔하나']),\n",
    "   'Age':pd.Series([25,26,25,23,30,29,23]),\n",
    "   'Rating':pd.Series([4.23,3.24,3.98,2.56,3.20,4.6,3.8])}\n",
    "\n",
    "df = pd.DataFrame(d)\n",
    "\n",
    "print('데이터 타입 : \\n',df.dtypes, '\\n')\n",
    "print('사이즈 : ',df.size, '\\n')\n",
    "print('값 : \\n',df.values, '\\n')\n",
    "print('열 : ',df.columns, '\\n')\n",
    "print('축 : ',df.axes, '\\n')\n",
    "print('인덱스 : ',df.empty, '\\n')\n",
    "print('설명 \\n', df.describe())\n",
    "print('설명 \\n', df.describe(include='all'))\n",
    "\n",
    "df"
   ]
  },
  {
   "cell_type": "code",
   "execution_count": 124,
   "metadata": {},
   "outputs": [
    {
     "name": "stdout",
     "output_type": "stream",
     "text": [
      "one      경기\n",
      "two      강원\n",
      "three    서울\n",
      "four     충북\n",
      "five     인천\n",
      "Name: state, dtype: object\n"
     ]
    },
    {
     "data": {
      "text/html": [
       "<div>\n",
       "<style scoped>\n",
       "    .dataframe tbody tr th:only-of-type {\n",
       "        vertical-align: middle;\n",
       "    }\n",
       "\n",
       "    .dataframe tbody tr th {\n",
       "        vertical-align: top;\n",
       "    }\n",
       "\n",
       "    .dataframe thead th {\n",
       "        text-align: right;\n",
       "    }\n",
       "</style>\n",
       "<table border=\"1\" class=\"dataframe\">\n",
       "  <thead>\n",
       "    <tr style=\"text-align: right;\">\n",
       "      <th></th>\n",
       "      <th>state</th>\n",
       "      <th>year</th>\n",
       "      <th>pop</th>\n",
       "      <th>debt</th>\n",
       "      <th>eastern</th>\n",
       "    </tr>\n",
       "  </thead>\n",
       "  <tbody>\n",
       "    <tr>\n",
       "      <th>one</th>\n",
       "      <td>경기</td>\n",
       "      <td>2000</td>\n",
       "      <td>1.5</td>\n",
       "      <td>NaN</td>\n",
       "      <td>False</td>\n",
       "    </tr>\n",
       "    <tr>\n",
       "      <th>two</th>\n",
       "      <td>강원</td>\n",
       "      <td>2001</td>\n",
       "      <td>1.7</td>\n",
       "      <td>-1.2</td>\n",
       "      <td>False</td>\n",
       "    </tr>\n",
       "    <tr>\n",
       "      <th>three</th>\n",
       "      <td>서울</td>\n",
       "      <td>2002</td>\n",
       "      <td>3.6</td>\n",
       "      <td>NaN</td>\n",
       "      <td>True</td>\n",
       "    </tr>\n",
       "    <tr>\n",
       "      <th>four</th>\n",
       "      <td>충북</td>\n",
       "      <td>2001</td>\n",
       "      <td>2.4</td>\n",
       "      <td>-1.5</td>\n",
       "      <td>False</td>\n",
       "    </tr>\n",
       "    <tr>\n",
       "      <th>five</th>\n",
       "      <td>인천</td>\n",
       "      <td>2002</td>\n",
       "      <td>2.9</td>\n",
       "      <td>-1.7</td>\n",
       "      <td>False</td>\n",
       "    </tr>\n",
       "  </tbody>\n",
       "</table>\n",
       "</div>"
      ],
      "text/plain": [
       "      state  year  pop  debt  eastern\n",
       "one      경기  2000  1.5   NaN    False\n",
       "two      강원  2001  1.7  -1.2    False\n",
       "three    서울  2002  3.6   NaN     True\n",
       "four     충북  2001  2.4  -1.5    False\n",
       "five     인천  2002  2.9  -1.7    False"
      ]
     },
     "execution_count": 124,
     "metadata": {},
     "output_type": "execute_result"
    }
   ],
   "source": [
    "data={'state': ['경기', '강원', '서울', '충북', '인천'],\n",
    "      'year':[2000,2001,2002,2001,2002],\n",
    "      'pop':[1.5,1.7,3.6,2.4,2.9]} \n",
    "\n",
    "df = pd.DataFrame(data, index=['one', 'two', 'three', 'four', 'five'])\n",
    "\n",
    "print(df['state'])\n",
    "\n",
    "df['debt'] = 16.5\n",
    "\n",
    "df['eastern'] = df['state'] == '서울'\n",
    "\n",
    "val = pd.Series([-1.2, -1.5, -1.7], index=['two', 'four', 'five'])\n",
    "df['debt'] = val\n",
    "\n",
    "df"
   ]
  },
  {
   "cell_type": "code",
   "execution_count": 126,
   "metadata": {},
   "outputs": [
    {
     "data": {
      "text/plain": [
       "0    2.0\n",
       "1    5.0\n",
       "2    9.0\n",
       "3    5.0\n",
       "dtype: float64"
      ]
     },
     "execution_count": 126,
     "metadata": {},
     "output_type": "execute_result"
    }
   ],
   "source": [
    "A = pd.Series([2,4,6], index=[0,1,2])\n",
    "B = pd.Series([1,3,5], index=[1,2,3])\n",
    "A + B\n",
    "\n",
    "A.add(B, fill_value = 0)"
   ]
  },
  {
   "cell_type": "code",
   "execution_count": 129,
   "metadata": {},
   "outputs": [
    {
     "data": {
      "text/html": [
       "<div>\n",
       "<style scoped>\n",
       "    .dataframe tbody tr th:only-of-type {\n",
       "        vertical-align: middle;\n",
       "    }\n",
       "\n",
       "    .dataframe tbody tr th {\n",
       "        vertical-align: top;\n",
       "    }\n",
       "\n",
       "    .dataframe thead th {\n",
       "        text-align: right;\n",
       "    }\n",
       "</style>\n",
       "<table border=\"1\" class=\"dataframe\">\n",
       "  <thead>\n",
       "    <tr style=\"text-align: right;\">\n",
       "      <th></th>\n",
       "      <th>age</th>\n",
       "      <th>preScore</th>\n",
       "      <th>postScore</th>\n",
       "    </tr>\n",
       "  </thead>\n",
       "  <tbody>\n",
       "    <tr>\n",
       "      <th>age</th>\n",
       "      <td>370.0</td>\n",
       "      <td>18.5</td>\n",
       "      <td>200.5</td>\n",
       "    </tr>\n",
       "    <tr>\n",
       "      <th>preScore</th>\n",
       "      <td>18.5</td>\n",
       "      <td>85.3</td>\n",
       "      <td>142.4</td>\n",
       "    </tr>\n",
       "    <tr>\n",
       "      <th>postScore</th>\n",
       "      <td>200.5</td>\n",
       "      <td>142.4</td>\n",
       "      <td>723.7</td>\n",
       "    </tr>\n",
       "  </tbody>\n",
       "</table>\n",
       "</div>"
      ],
      "text/plain": [
       "             age  preScore  postScore\n",
       "age        370.0      18.5      200.5\n",
       "preScore    18.5      85.3      142.4\n",
       "postScore  200.5     142.4      723.7"
      ]
     },
     "execution_count": 129,
     "metadata": {},
     "output_type": "execute_result"
    }
   ],
   "source": [
    "import pandas as pd\n",
    "data = {'name': ['하늘이', '찬호박', '우리야', '함께가', '하성공'],\n",
    "'age': [40, 50, 30, 20, 70],\n",
    "'preScore': [14, 28, 39, 25, 32],\n",
    "'postScore': [20, 90, 55, 65, 79]}\n",
    "df = pd.DataFrame(data,columns = ['name', 'age', 'preScore', 'postScore'])\n",
    "df \n",
    "df.cov()"
   ]
  },
  {
   "cell_type": "code",
   "execution_count": 133,
   "metadata": {},
   "outputs": [],
   "source": [
    "df = pd.DataFrame({'one' : pd.Series(np.random.randn(3),\n",
    "                                     index=['a', 'b', 'c']),\n",
    "                   'two' : pd.Series(np.random.randn(4),\n",
    "                                     index=['a', 'b', 'c', 'd']),\n",
    "                   'three' : pd.Series(np.random.randn(3),\n",
    "                                     index=['b', 'c', 'd'])})\n",
    "df2 = pd.DataFrame({'one' : pd.Series(np.random.randn(3),\n",
    "                                     index=['a', 'b', 'c']),\n",
    "                   'two' : pd.Series(np.random.randn(4),\n",
    "                                     index=['a', 'b', 'c', 'd']),\n",
    "                   'three' : pd.Series(np.random.randn(3),\n",
    "                                     index=['b', 'c', 'd'])}) "
   ]
  },
  {
   "cell_type": "code",
   "execution_count": 135,
   "metadata": {},
   "outputs": [
    {
     "name": "stdout",
     "output_type": "stream",
     "text": [
      "     A    B\n",
      "0  1.0  NaN\n",
      "1  NaN  2.0\n",
      "2  3.0  3.0\n",
      "3  5.0  NaN\n",
      "4  NaN  6.0\n",
      "     A    B\n",
      "0  5.0  NaN\n",
      "1  2.0  NaN\n",
      "2  4.0  3.0\n",
      "3  NaN  4.0\n",
      "4  3.0  6.0\n",
      "5  7.0  8.0\n"
     ]
    }
   ],
   "source": [
    "df1 = pd.DataFrame({'A' : [1., np.nan, 3., 5., np.nan],\n",
    "                    'B' : [np.nan, 2., 3., np.nan, 6.]})\n",
    "print(df1)\n",
    "\n",
    "df2 = pd.DataFrame({'A' : [5., 2., 4., np.nan, 3., 7.],\n",
    "                    'B' : [np.nan, np.nan, 3., 4., 6., 8.]})\n",
    "print(df2)\n",
    "\n",
    "combiner = lambda x, y: np.where(pd.isnull(x), y, x) "
   ]
  },
  {
   "cell_type": "code",
   "execution_count": 198,
   "metadata": {},
   "outputs": [
    {
     "data": {
      "text/html": [
       "<div>\n",
       "<style scoped>\n",
       "    .dataframe tbody tr th:only-of-type {\n",
       "        vertical-align: middle;\n",
       "    }\n",
       "\n",
       "    .dataframe tbody tr th {\n",
       "        vertical-align: top;\n",
       "    }\n",
       "\n",
       "    .dataframe thead th {\n",
       "        text-align: right;\n",
       "    }\n",
       "</style>\n",
       "<table border=\"1\" class=\"dataframe\">\n",
       "  <thead>\n",
       "    <tr style=\"text-align: right;\">\n",
       "      <th></th>\n",
       "      <th>지역</th>\n",
       "      <th>2018</th>\n",
       "      <th>2017</th>\n",
       "      <th>2016</th>\n",
       "      <th>2015</th>\n",
       "      <th>2015-2018증가율</th>\n",
       "      <th>2015-2017증가율</th>\n",
       "    </tr>\n",
       "  </thead>\n",
       "  <tbody>\n",
       "    <tr>\n",
       "      <th>서울</th>\n",
       "      <td>수도권</td>\n",
       "      <td>9904312.0</td>\n",
       "      <td>9631482.0</td>\n",
       "      <td>9762546.0</td>\n",
       "      <td>9853972.0</td>\n",
       "      <td>2.83</td>\n",
       "      <td>-2.26</td>\n",
       "    </tr>\n",
       "    <tr>\n",
       "      <th>부산</th>\n",
       "      <td>경상권</td>\n",
       "      <td>3448737.0</td>\n",
       "      <td>3393191.0</td>\n",
       "      <td>3512547.0</td>\n",
       "      <td>3655437.0</td>\n",
       "      <td>1.63</td>\n",
       "      <td>-7.17</td>\n",
       "    </tr>\n",
       "    <tr>\n",
       "      <th>인천</th>\n",
       "      <td>수도권</td>\n",
       "      <td>2890451.0</td>\n",
       "      <td>2632035.0</td>\n",
       "      <td>2517680.0</td>\n",
       "      <td>2466338.0</td>\n",
       "      <td>9.82</td>\n",
       "      <td>6.72</td>\n",
       "    </tr>\n",
       "    <tr>\n",
       "      <th>대구</th>\n",
       "      <td>경상권</td>\n",
       "      <td>2466052.0</td>\n",
       "      <td>2431774.0</td>\n",
       "      <td>2456016.0</td>\n",
       "      <td>2473990.0</td>\n",
       "      <td>1.41</td>\n",
       "      <td>-1.71</td>\n",
       "    </tr>\n",
       "  </tbody>\n",
       "</table>\n",
       "</div>"
      ],
      "text/plain": [
       "     지역       2018       2017       2016       2015 2015-2018증가율  2015-2017증가율\n",
       "서울  수도권  9904312.0  9631482.0  9762546.0  9853972.0         2.83         -2.26\n",
       "부산  경상권  3448737.0  3393191.0  3512547.0  3655437.0         1.63         -7.17\n",
       "인천  수도권  2890451.0  2632035.0  2517680.0  2466338.0         9.82          6.72\n",
       "대구  경상권  2466052.0  2431774.0  2456016.0  2473990.0         1.41         -1.71"
      ]
     },
     "execution_count": 198,
     "metadata": {},
     "output_type": "execute_result"
    }
   ],
   "source": [
    "data = {\"서울\": ['수도권', 9904312, 9631482, 9762546, 9853972, 0.0283],\n",
    "\n",
    "       \"부산\": ['경상권', 3448737, 3393191, 3512547, 3655437, 0.0163],\n",
    "\n",
    "       \"인천\": ['수도권', 2890451, 2632035, 2517680, 2466338, 0.0982],\n",
    "\n",
    "       \"대구\": ['경상권', 2466052, 2431774, 2456016, 2473990, 0.0141]}\n",
    "\n",
    "columns=['지역','2018','2017','2016','2015','2015-2018증가율']\n",
    "\n",
    "index = [\"서울\",\"부산\",\"인천\",\"대구\"] \n",
    "\n",
    "df = pd.DataFrame(data, columns, index)\n",
    "\n",
    "df = df.T\n",
    "\n",
    "df['2015'] = df['2015'].astype('float')\n",
    "df['2016'] = df['2016'].astype('float')\n",
    "df['2017'] = df['2017'].astype('float')\n",
    "df['2018'] = df['2018'].astype('float')\n",
    "\n",
    "df['2015-2018증가율'] = df['2015-2018증가율']*100\n",
    "df['2015-2017증가율'] = round((df['2017'] - df['2015'])/df['2015']*100, 2)\n",
    "df"
   ]
  }
 ],
 "metadata": {
  "kernelspec": {
   "display_name": "Python 3",
   "language": "python",
   "name": "python3"
  },
  "language_info": {
   "codemirror_mode": {
    "name": "ipython",
    "version": 3
   },
   "file_extension": ".py",
   "mimetype": "text/x-python",
   "name": "python",
   "nbconvert_exporter": "python",
   "pygments_lexer": "ipython3",
   "version": "3.8.3"
  }
 },
 "nbformat": 4,
 "nbformat_minor": 4
}
