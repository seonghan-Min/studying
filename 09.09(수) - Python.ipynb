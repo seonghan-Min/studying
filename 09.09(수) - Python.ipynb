{
 "cells": [
  {
   "cell_type": "markdown",
   "metadata": {},
   "source": [
    "# DB 연결\n",
    "### CRUD\n",
    "- (Commit 필요 X, Trigger 작동 X) Select\n",
    "- (Commit 필요 O, Trigger 작동 O) Insert, Update, Delete\n",
    "- 2 개의 Cursor와 Connection 존재 => System자원 및 네트워크 사용.\n",
    "- \n",
    "- 반드시 close() 해줘야만 함."
   ]
  },
  {
   "cell_type": "markdown",
   "metadata": {},
   "source": [
    "## Select"
   ]
  },
  {
   "cell_type": "code",
   "execution_count": null,
   "metadata": {
    "scrolled": true
   },
   "outputs": [],
   "source": [
    "import pymysql\n",
    "con = pymysql.connect(host = 'localhost', port=3307, user='root', passwd='0000',\n",
    "                      db='sungjuk_test', charset='utf8', autocommit = True)\n",
    "\n",
    "\n",
    "# SQL Connection 오픈 상태로 작업을 수행 중 에러 발생 시 Connection 닫히지 않는 문제 발생.\n",
    "# 이 상태가 반복되면 Connection Leak 현상 발생. 새로운 Connection 오픈 불가능.\n",
    "# 해당 문제 해결을 위해 try & finally 사용.\n",
    "# finally에서 Connection Close() 수행.\n",
    "try :\n",
    "    with con.cursor() as cur:\n",
    "        cur.execute(\"select * from student\")  # execute, executemany, callproc => Recordset\n",
    "        rows = cur.fetchall()                 # fetchone, fetchmany, fetchall\n",
    "        desc = cur.description\n",
    "        \n",
    "        # f 문자열, % 문자열, Format 문자열\n",
    "        print(f'{desc[0][0]:<8} {desc[1][0]:<15} {desc[2][0]:>10} {desc[3][0]:>10}')\n",
    "        \n",
    "        for row in rows:\n",
    "            print(f'{row[0]}, {row[1]}, {row[2]}')    # index를 통해서 => 기본커서 tuple 커서를 사용\n",
    "        \n",
    "        print(f'쿼리가 영향을 미친 행은 {cur.rowcount} 개의 행')\n",
    "\n",
    "finally:\n",
    "    con.close()"
   ]
  },
  {
   "cell_type": "markdown",
   "metadata": {},
   "source": [
    "## Insert"
   ]
  },
  {
   "cell_type": "code",
   "execution_count": null,
   "metadata": {},
   "outputs": [],
   "source": [
    "import pymysql\n",
    "con = pymysql.connect(host = 'localhost', port=3307, user='root', passwd='0000',\n",
    "                      db='sungjuk_test', charset='utf8', autocommit = True)\n",
    "\n",
    "person = ('한국이', 100, 100, 100, 'CH00000001')\n",
    "\n",
    "try :\n",
    "    with con.cursor() as cur:\n",
    "        \n",
    "        # Placeholder\n",
    "        # 문자열을 %s로 지정하면 int던 date던 타입이 어찌되었건 알아서 입력됨.\n",
    "        cur.execute(\"insert into student(name, kor, mat, eng, schoolcode) values(%s, %s, %s, %s, %s)\",\n",
    "                   (person[0], person[1], person[2], person[3], person[4]))\n",
    "        \n",
    "        con.commit()\n",
    "        print('새로운 학생이 등록되었습니다.')\n",
    "\n",
    "finally:\n",
    "    con.close()"
   ]
  },
  {
   "cell_type": "markdown",
   "metadata": {},
   "source": [
    "## Create"
   ]
  },
  {
   "cell_type": "code",
   "execution_count": null,
   "metadata": {},
   "outputs": [],
   "source": [
    "import pymysql\n",
    "con = pymysql.connect(host = 'localhost', port=3307, user='root', passwd='0000',\n",
    "                     db='sungjuk_test', charset='utf8', autocommit = True,\n",
    "                     cursorclass = pymysql.cursors.DictCursor)\n",
    "\n",
    "cursor = con.cursor()\n",
    "cursor.execute(\"\"\"\n",
    "CREATE TABLE `pet` (\n",
    "`id` INT(11) NOT NULL AUTO_INCREMENT,\n",
    "`name` VARCHAR(20) NOT NULL COLLATE 'utf8_general_ci',\n",
    "`owner` VARCHAR(20) NULL DEFAULT NULL COLLATE 'utf8_general_ci',\n",
    "`species` VARCHAR(20) NULL DEFAULT NULL COLLATE 'utf8_general_ci',\n",
    "`sex` CHAR(1) NULL DEFAULT NULL COLLATE 'utf8_general_ci',\n",
    "`birth` DATE NULL DEFAULT NULL,\n",
    "`death` DATE NULL DEFAULT NULL,\n",
    "PRIMARY KEY (`id`) USING BTREE\n",
    ")\n",
    "COLLATE='utf8_general_ci'\n",
    "ENGINE=InnoDB\n",
    ";\"\"\")\n",
    "cursor.close()\n",
    "con.close()"
   ]
  },
  {
   "cell_type": "code",
   "execution_count": 5,
   "metadata": {},
   "outputs": [
    {
     "name": "stdout",
     "output_type": "stream",
     "text": [
      "총 5 개의 행이 등록되었습니다.\n"
     ]
    }
   ],
   "source": [
    "import pymysql\n",
    "con = pymysql.connect(host = 'localhost', port=3307, user='root', passwd='0000',\n",
    "                     db='sungjuk_test', charset='utf8', autocommit = True,\n",
    "                     cursorclass = pymysql.cursors.DictCursor)\n",
    "\n",
    "try :\n",
    "    with con.cursor() as cur:\n",
    "        cur.executemany('insert into pet values (%s, %s, %s, %s, %s, %s, %s)',\n",
    "                   [(1, '인천시', '민주', 'CAT', 'F', '2001-02-04', None),\n",
    "                    (2, '대구시', '자유', 'CAT', 'F', '2010-03-17', None),\n",
    "                    (3, '대전시', '민주', 'DOG', 'F', '2010-05-03', None),\n",
    "                    (4, '광주시', '민주', 'DOG', 'M', '2015-08-27', None),\n",
    "                    (5, '부산시', '자유', 'DOG', 'M', '2017-08-31', '2018-04-29')\n",
    "                   ])\n",
    "        con.commit()\n",
    "        print(f'총 {cur.rowcount} 개의 행이 등록되었습니다.')\n",
    "        \n",
    "finally:\n",
    "    con.close()"
   ]
  },
  {
   "cell_type": "code",
   "execution_count": 8,
   "metadata": {},
   "outputs": [
    {
     "name": "stdout",
     "output_type": "stream",
     "text": [
      "id\tname\towner\tspecies\tsex\tbirth\t\tdeath\n",
      "1\t인천시\t민주\tCAT\tF\t2001-02-04\tNone\n",
      "2\t대구시\t자유\tCAT\tF\t2010-03-17\tNone\n",
      "3\t대전시\t민주\tDOG\tF\t2010-05-03\tNone\n",
      "4\t광주시\t민주\tDOG\tM\t2015-08-27\tNone\n",
      "5\t부산시\t자유\tDOG\tM\t2017-08-31\t2018-04-29\n"
     ]
    }
   ],
   "source": [
    "import pymysql\n",
    "con = pymysql.connect(host = 'localhost', port=3307, user='root', passwd='0000',\n",
    "                     db='sungjuk_test', charset='utf8', autocommit = True)\n",
    "\n",
    "try:\n",
    "    with con.cursor() as cur:\n",
    "        cur.execute(\"select * from pet\")\n",
    "\n",
    "        desc = cur.description\n",
    "        print(f'{desc[0][0]}\\t{desc[1][0]}\\t{desc[2][0]}\\t{desc[3][0]}\\t{desc[4][0]}\\t{desc[5][0]}\\t\\t{desc[6][0]}')\n",
    "\n",
    "        rows = cur.fetchall()\n",
    "        for row in rows:\n",
    "            print(f'{row[0]}\\t{row[1]}\\t{row[2]}\\t{row[3]}\\t{row[4]}\\t{row[5]}\\t{row[6]}')\n",
    "        \n",
    "finally:\n",
    "    con.close()"
   ]
  },
  {
   "cell_type": "markdown",
   "metadata": {},
   "source": [
    "##### Pet에 Select Procedure 생성하고 클라이언트에서 출력"
   ]
  },
  {
   "cell_type": "code",
   "execution_count": 19,
   "metadata": {},
   "outputs": [
    {
     "name": "stdout",
     "output_type": "stream",
     "text": [
      "{'id': 1, 'name': '인천시', 'owner': '민주', 'species': 'CAT', 'sex': 'F', 'birth': datetime.date(2001, 2, 4), 'death': None}\n",
      "{'id': 2, 'name': '대구시', 'owner': '자유', 'species': 'CAT', 'sex': 'F', 'birth': datetime.date(2010, 3, 17), 'death': None}\n",
      "{'id': 3, 'name': '대전시', 'owner': '민주', 'species': 'DOG', 'sex': 'F', 'birth': datetime.date(2010, 5, 3), 'death': None}\n",
      "{'id': 4, 'name': '광주시', 'owner': '민주', 'species': 'DOG', 'sex': 'M', 'birth': datetime.date(2015, 8, 27), 'death': None}\n",
      "{'id': 5, 'name': '인천시', 'owner': '자유', 'species': 'DOG', 'sex': 'M', 'birth': datetime.date(2017, 8, 31), 'death': datetime.date(2018, 4, 29)}\n"
     ]
    }
   ],
   "source": [
    "import pymysql\n",
    "con = pymysql.connect(host = 'localhost', port=3307, user='root', passwd='0000',\n",
    "                     db='sungjuk_test', charset='utf8', autocommit = True,\n",
    "                     cursorclass = pymysql.cursors.DictCursor)\n",
    "\n",
    "try:\n",
    "    with con.cursor() as cur:\n",
    "        cur.callproc('pet_select')  # 레코드셀 생성.\n",
    "        if (cur.rowcount):\n",
    "            for i in range(cur.rowcount):\n",
    "                print(cur.fetchone())\n",
    "\n",
    "finally:\n",
    "    con.close()"
   ]
  },
  {
   "cell_type": "markdown",
   "metadata": {},
   "source": [
    "##### Pet에 Insert Procedure로 데이터 생성하고 클라이언트에서 출력"
   ]
  },
  {
   "cell_type": "code",
   "execution_count": 15,
   "metadata": {},
   "outputs": [
    {
     "name": "stdout",
     "output_type": "stream",
     "text": [
      "{1}  행이 삽입되었습니다.\n"
     ]
    }
   ],
   "source": [
    "import pymysql\n",
    "con = pymysql.connect(host = 'localhost', port=3307, user='root', passwd='0000',\n",
    "                     db='sungjuk_test', charset='utf8', autocommit = True,\n",
    "                     cursorclass = pymysql.cursors.DictCursor)\n",
    "\n",
    "data = ('부산시', '민주', 'CAT', 'M', '2001-02-04', '2019-12-31', 0)\n",
    "\n",
    "try:\n",
    "    with con.cursor() as cur:\n",
    "        cur.callproc('pet_insert', data)\n",
    "        print({cur.rowcount},' 행이 삽입되었습니다.')\n",
    "\n",
    "finally:\n",
    "    con.close()"
   ]
  },
  {
   "cell_type": "markdown",
   "metadata": {},
   "source": [
    "##### Pet에 Update Procedure로 데이터를 변경하고 클라이언트에서 출력"
   ]
  },
  {
   "cell_type": "code",
   "execution_count": 14,
   "metadata": {},
   "outputs": [
    {
     "name": "stdout",
     "output_type": "stream",
     "text": [
      "result =  2\n",
      "수정할 이름이 없습니다. \n",
      "\n"
     ]
    }
   ],
   "source": [
    "import pymysql\n",
    "con = pymysql.connect(host = 'localhost', port=3307, user='root', passwd='0000',\n",
    "                     db='sungjuk_test', charset='utf8', autocommit = True,\n",
    "                     cursorclass = pymysql.cursors.DictCursor)\n",
    "\n",
    "data = ('부산시', '인천시', 0)\n",
    "\n",
    "try:\n",
    "    with con.cursor() as cur:\n",
    "        cur.callproc('pet_update_name', data)\n",
    "        cur.execute('select @_pet_update_name_2')     # 사용자 정의 변수(@_). 매개변수의 2번째(인덱스 순서, result)를 찾기.\n",
    "        result = cur.fetchone()\n",
    "        print('result = ', result['@_pet_update_name_2'])\n",
    "        if result['@_pet_update_name_2'] == 2:\n",
    "            print('수정할 이름이 없습니다. \\n')\n",
    "        elif result['@_pet_update_name_2'] == -1:\n",
    "            print('실행 중 에러가 발생하였습니다. \\n')\n",
    "        else:\n",
    "            print({cur.rowcount},' 행이 수정되었습니다.')\n",
    "\n",
    "finally:\n",
    "    con.close()"
   ]
  },
  {
   "cell_type": "markdown",
   "metadata": {},
   "source": [
    "##### Pet에 Delete Procedure로 데이터를 삭제하고 클라이언트 출력"
   ]
  },
  {
   "cell_type": "code",
   "execution_count": 29,
   "metadata": {},
   "outputs": [
    {
     "name": "stdout",
     "output_type": "stream",
     "text": [
      "[쿼리 수행 전 데이터 출력]\n",
      "{'id': 1, 'name': '인천시', 'owner': '민주', 'species': 'CAT', 'sex': 'F', 'birth': datetime.date(2001, 2, 4), 'death': None}\n",
      "{'id': 2, 'name': '대구시', 'owner': '자유', 'species': 'CAT', 'sex': 'F', 'birth': datetime.date(2010, 3, 17), 'death': None}\n",
      "{'id': 3, 'name': '대전시', 'owner': '민주', 'species': 'DOG', 'sex': 'F', 'birth': datetime.date(2010, 5, 3), 'death': None}\n",
      "{'id': 4, 'name': '광주시', 'owner': '민주', 'species': 'DOG', 'sex': 'M', 'birth': datetime.date(2015, 8, 27), 'death': None}\n",
      "{'id': 5, 'name': '인천시', 'owner': '자유', 'species': 'DOG', 'sex': 'M', 'birth': datetime.date(2017, 8, 31), 'death': datetime.date(2018, 4, 29)}\n",
      "\n",
      "삭제할 데이터가 존재하지 않습니다. \n",
      "\n",
      "[쿼리 수행 후 데이터 출력]\n",
      "{'id': 1, 'name': '인천시', 'owner': '민주', 'species': 'CAT', 'sex': 'F', 'birth': datetime.date(2001, 2, 4), 'death': None}\n",
      "{'id': 2, 'name': '대구시', 'owner': '자유', 'species': 'CAT', 'sex': 'F', 'birth': datetime.date(2010, 3, 17), 'death': None}\n",
      "{'id': 3, 'name': '대전시', 'owner': '민주', 'species': 'DOG', 'sex': 'F', 'birth': datetime.date(2010, 5, 3), 'death': None}\n",
      "{'id': 4, 'name': '광주시', 'owner': '민주', 'species': 'DOG', 'sex': 'M', 'birth': datetime.date(2015, 8, 27), 'death': None}\n",
      "{'id': 5, 'name': '인천시', 'owner': '자유', 'species': 'DOG', 'sex': 'M', 'birth': datetime.date(2017, 8, 31), 'death': datetime.date(2018, 4, 29)}\n"
     ]
    }
   ],
   "source": [
    "import pymysql\n",
    "con = pymysql.connect(host = 'localhost', port=3307, user='root', passwd='0000',\n",
    "                     db='sungjuk_test', charset='utf8', autocommit = True,\n",
    "                     cursorclass = pymysql.cursors.DictCursor)\n",
    "\n",
    "data = ('6' , 0)\n",
    "\n",
    "try:\n",
    "    \n",
    "    with con.cursor() as cur:\n",
    "        cur.callproc('pet_select')\n",
    "        if (cur.rowcount):\n",
    "            print('[쿼리 수행 전 데이터 출력]')\n",
    "            for i in range(cur.rowcount):\n",
    "                print(cur.fetchone())\n",
    "    \n",
    "    \n",
    "    with con.cursor() as cur:\n",
    "        cur.callproc('pet_delete', data)\n",
    "        cur.execute('select @_pet_delete_1')\n",
    "        result = cur.fetchone()\n",
    "        if result['@_pet_delete_1'] == 2:\n",
    "            print('\\n삭제할 데이터가 존재하지 않습니다. \\n')\n",
    "        elif result['@_pet_delete_1'] == -1:\n",
    "            print('\\n실행 중 에러가 발생하였습니다. \\n')\n",
    "        else:\n",
    "            print('\\n',{cur.rowcount},'행이 삭제되었습니다. \\n')\n",
    "         \n",
    "        \n",
    "    with con.cursor() as cur:\n",
    "        cur.callproc('pet_select')\n",
    "        if (cur.rowcount):\n",
    "            print('[쿼리 수행 후 데이터 출력]')\n",
    "            for i in range(cur.rowcount):\n",
    "                print(cur.fetchone())\n",
    "            \n",
    "finally:\n",
    "    con.close()"
   ]
  },
  {
   "cell_type": "markdown",
   "metadata": {},
   "source": [
    "## Tuple 을 Dict로 전환"
   ]
  },
  {
   "cell_type": "code",
   "execution_count": 42,
   "metadata": {},
   "outputs": [
    {
     "name": "stdout",
     "output_type": "stream",
     "text": [
      "dict_keys(['id', 'email', 'password'])\n",
      "id email password id email password id email password id email password id email password id email password id email password id email password id email password id email password id email password id email password id email password id email password "
     ]
    }
   ],
   "source": [
    "import pymysql\n",
    "con = pymysql.connect(host = 'localhost', port=3307, user='root', passwd='0000',\n",
    "                     db='sungjuk_test', charset='utf8', autocommit = True,\n",
    "                     cursorclass = pymysql.cursors.DictCursor)\n",
    "\n",
    "try:\n",
    "    with con.cursor() as cursor:\n",
    "        sql = 'insert into users(email, password) values(%s, %s)'\n",
    "        cursor.execute(sql, ('kpc01@kakao.com', '0001'))\n",
    "        cursor.execute(sql, ('kpc02@kakao.com', '0002'))\n",
    "        con.commit()\n",
    "    with con.cursor() as cursor:\n",
    "        sql = 'select * from users'\n",
    "        cursor.execute(sql)\n",
    "        result = cursor.fetchall()\n",
    "        for dic in result:\n",
    "            for key in dic.keys():\n",
    "                print(key,'',end='')\n",
    "\n",
    "finally:\n",
    "    con.close()\n",
    "        "
   ]
  },
  {
   "cell_type": "markdown",
   "metadata": {},
   "source": [
    "# 예제\n",
    "원격으로 pymysql을 이용하여 자신의 id와 password를 입력, 출력 하시오"
   ]
  },
  {
   "cell_type": "code",
   "execution_count": null,
   "metadata": {},
   "outputs": [],
   "source": [
    "import pymysql\n",
    "con = pymysql.connect(host = 'localhost', port=3307, user='root', passwd='0000',\n",
    "                      db='sungjuk_test', charset='utf8', autocommit = True)\n",
    "\n",
    "idpw = (00000, 'kpc@kakao.com', '0000')\n",
    "\n",
    "try :\n",
    "    with con.cursor() as cur:\n",
    "        \n",
    "        cur.execute(\"insert into users(id, email, password) values(%s, %s, %s)\", (idpw[0], idpw[1], idpw[2]))\n",
    "        print('새로운 학생이 등록되었습니다. \\n')\n",
    "        \n",
    "        cur.execute(\"select * from users\")\n",
    "        rows = cur.fetchall()\n",
    "        desc = cur.description\n",
    "        \n",
    "        print(f'{desc[0][0]}\\t{desc[1][0]}\\t{desc[2][0]}')\n",
    "        for row in rows:\n",
    "            print(f'{row[0]}\\t{row[1]}\\t{row[2]}')\n",
    "        \n",
    "        print(f'\\n등록된 쿼리는 총 {cur.rowcount} 개의 행')\n",
    "        \n",
    "finally:\n",
    "    con.close()"
   ]
  },
  {
   "cell_type": "markdown",
   "metadata": {},
   "source": [
    "# 문제\n",
    "- Student Class에 CRUD 생성.\n",
    "- DB Class 생성하여 Student Class의 CRUD와 연결.\n",
    "- Management Class 생성하여 메뉴 생성."
   ]
  },
  {
   "cell_type": "code",
   "execution_count": 23,
   "metadata": {},
   "outputs": [],
   "source": [
    "class Student:\n",
    "    studCount = 0\n",
    "    students = {}\n",
    "    def __init__(self, name, kor, mat, eng):\n",
    "        self.name = name\n",
    "        self.kor = int(kor)\n",
    "        self.mat = int(mat)\n",
    "        self.eng = int(eng)\n",
    "        Student.studCount += 1\n",
    "        \n",
    "    def studentInsert(students):\n",
    "        print(\" \")\n",
    "        name = input(\"이름 입력 : \")\n",
    "        kor = int(input(\"국어성적 입력 : \"))\n",
    "        mat = int(input(\"수학성적 입력 : \"))\n",
    "        eng = int(input(\"영어성적 입력 : \"))\n",
    "        cod = input(\"학교 코드 입력 : \")\n",
    "        students['name'] = name\n",
    "        students['kor'] = kor\n",
    "        students['mat'] = mat\n",
    "        students['eng'] = eng\n",
    "        students['code'] = cod\n",
    "        return students\n",
    "    \n",
    "    def studentDelete():\n",
    "        num = int(input(\"\\n삭제할 데이터의 번호를 입력하세요 : \"))\n",
    "        return num\n",
    "    \n",
    "    def studentSelect():\n",
    "        return null\n",
    "    \n",
    "    def studentUpdate(students):\n",
    "        id = int(input(\"\\n수정하고 싶은 row_Number를 입력하세요 : \"))\n",
    "        students['id'] = id\n",
    "        while 1:\n",
    "            print(\"\\n[이름: 1 \\t 국어성적: 2 \\t 수학성적: 3 \\t 영어성적: 4 \\t 실행: 9]\")\n",
    "            menu = int(input(\"수정할 내용을 선택하세요 => \"))\n",
    "            if menu == 1:\n",
    "                name = input(\"수정할 이름 입력 : \")\n",
    "                students['name'] = name\n",
    "            elif menu == 2:\n",
    "                kor = int(input(\"수정할 국어성적 입력 : \"))\n",
    "                students['kor'] = kor\n",
    "            elif menu == 3:\n",
    "                mat = int(input(\"수정할 수학성적 입력 : \"))\n",
    "                students['mat'] = mat\n",
    "            elif menu == 4:\n",
    "                eng = int(input(\"수정할 영어성적 입력 : \"))\n",
    "                students['eng'] = eng\n",
    "            elif menu == 9:\n",
    "                break     \n",
    "        return students"
   ]
  },
  {
   "cell_type": "code",
   "execution_count": 35,
   "metadata": {},
   "outputs": [],
   "source": [
    "import pymysql\n",
    "\n",
    "class DB:\n",
    "    def DB_Insert():\n",
    "        \n",
    "        con = pymysql.connect(host = 'localhost', port=3307, user='root', passwd='0000',\n",
    "                      db='sungjuk_test', charset='utf8', autocommit = True,\n",
    "                      cursorclass = pymysql.cursors.DictCursor)\n",
    "\n",
    "        Dic = {}\n",
    "        insertDic = Student.studentInsert(Dic)\n",
    "        insertData = (insertDic['name'], insertDic['kor'], insertDic['mat'], insertDic['eng'], insertDic['code'], 0)\n",
    "\n",
    "        try :\n",
    "            with con.cursor() as cur:\n",
    "                cur.callproc('student_insert', insertData)\n",
    "                cur.execute('select @_student_insert_5')\n",
    "                result = cur.fetchone()\n",
    "                if result['@_student_insert_5'] == -1:\n",
    "                    print('\\n실행 중 에러가 발생하였습니다. \\n')\n",
    "                else :\n",
    "                    print('\\n새로운 학생이 등록되었습니다. \\n')\n",
    "                \n",
    "        finally:\n",
    "            con.close()\n",
    "            \n",
    "            \n",
    "            \n",
    "            \n",
    "            \n",
    "    def DB_Delete():\n",
    "        \n",
    "        con = pymysql.connect(host = 'localhost', port=3307, user='root', passwd='0000',\n",
    "                      db='sungjuk_test', charset='utf8', autocommit = True,\n",
    "                      cursorclass = pymysql.cursors.DictCursor)\n",
    "        \n",
    "        deleteNum = Student.studentDelete()\n",
    "        deleteData = (deleteNum, 0)\n",
    "        \n",
    "        try :\n",
    "            with con.cursor() as cur :\n",
    "                cur.callproc('student_delete', deleteData)      \n",
    "                cur.execute('select @_student_delete_1')\n",
    "                result = cur.fetchone()\n",
    "                if result['@_student_delete_1'] == 2:\n",
    "                    print('\\n삭제할 데이터가 존재하지 않습니다. \\n')\n",
    "                elif result['@_student_delete_1'] == -1:\n",
    "                    print('\\n실행 중 에러가 발생하였습니다. \\n')\n",
    "                else:\n",
    "                    print('\\n',{cur.rowcount},'행이 삭제되었습니다. \\n')\n",
    "                    \n",
    "#                 cur.execute('delete from student where bunho = %s', deleteNum)\n",
    "#                 row = cur.rowcount\n",
    "#                 if row == 1:\n",
    "#                     print(f'\\n{row}행이 삭제되었습니다. \\n')\n",
    "#                 else :\n",
    "#                     print('\\n삭제할 데이터가 존재하지 않습니다. \\n')  \n",
    "                    \n",
    "        finally :\n",
    "            con.close()\n",
    "            \n",
    "            \n",
    "            \n",
    "            \n",
    "            \n",
    "    def DB_Select():\n",
    "        \n",
    "        con = pymysql.connect(host = 'localhost', port=3307, user='root', passwd='0000',\n",
    "                      db='sungjuk_test', charset='utf8', autocommit = True)\n",
    "        \n",
    "        try :\n",
    "            with con.cursor() as cur:\n",
    "                cur.callproc('student_select')\n",
    "                \n",
    "                desc = cur.description\n",
    "                print(f'\\n{desc[0][0]}\\t{desc[1][0]}\\t{desc[2][0]}\\t{desc[3][0]}\\t{desc[4][0]}\\t{desc[5][0]}\\t{desc[6][0]}\\t{desc[7][0]}\\t{desc[8][0]}')\n",
    "\n",
    "                rows = cur.fetchall()\n",
    "                for row in rows:\n",
    "                    print(f'{row[0]}\\t{row[1]}\\t{row[2]}\\t{row[3]}\\t{row[4]}\\t{row[5]}\\t{row[6]}\\t{row[7]}\\t{row[8]}')\n",
    "                    \n",
    "        finally :\n",
    "            con.close()\n",
    "            \n",
    "            \n",
    "            \n",
    "            \n",
    "            \n",
    "    def DB_Update():\n",
    "        \n",
    "        con = pymysql.connect(host = 'localhost', port=3307, user='root', passwd='0000',\n",
    "                      db='sungjuk_test', charset='utf8', autocommit = True,\n",
    "                      cursorclass = pymysql.cursors.DictCursor)\n",
    "        \n",
    "        Dic = {}\n",
    "        Data = {}\n",
    "        updateDic = Student.studentUpdate(Dic)\n",
    "        \n",
    "        try :\n",
    "            with con.cursor() as cur :\n",
    "                \n",
    "                cur.execute(\"select * from student where bunho = %s\",updateDic['id'])\n",
    "                res = cur.fetchall()\n",
    "                \n",
    "                if not updateDic.get('name'):\n",
    "                    Data.setdefault('name', res[0]['name'])\n",
    "                else :\n",
    "                    Data.setdefault('name', updateDic['name'])\n",
    "                    \n",
    "                if not updateDic.get('kor'):\n",
    "                    Data.setdefault('kor', res[0]['kor'])\n",
    "                else :\n",
    "                    Data.setdefault('kor', updateDic['kor'])\n",
    "                    \n",
    "                if not updateDic.get('mat'):\n",
    "                    Data.setdefault('mat', res[0]['mat'])\n",
    "                else :\n",
    "                    Data.setdefault('mat', updateDic['mat'])\n",
    "                    \n",
    "                if not updateDic.get('eng'):\n",
    "                    Data.setdefault('eng', res[0]['eng'])\n",
    "                else :\n",
    "                    Data.setdefault('eng', updateDic['eng'])\n",
    "                    \n",
    "            with con.cursor() as cur :\n",
    "                cur.callproc('student_update',\n",
    "                            (updateDic['id'], Data['name'], Data['kor'], Data['mat'], Data['eng'], 0))\n",
    "                cur.execute('select @_student_update_5')\n",
    "                result = cur.fetchone()\n",
    "                if result['@_student_update_5'] == 2:\n",
    "                    print('\\n해당 id에 할당된 데이터가 없습니다. \\n')\n",
    "                elif result['@_student_update_5'] == -1:\n",
    "                    print('\\n실행 중 에러가 발생하였습니다. \\n')\n",
    "                else:\n",
    "                    print('\\n',{cur.rowcount},'행이 업데이트 되었습니다. \\n')\n",
    "                \n",
    "                \n",
    "        finally:\n",
    "            con.close()"
   ]
  },
  {
   "cell_type": "code",
   "execution_count": 33,
   "metadata": {},
   "outputs": [],
   "source": [
    "class Management:\n",
    "    def start():\n",
    "        while 1:\n",
    "            choice = input(\"\\n[ 1: 입력 \\t 2: 출력 \\t 3: 수정 \\t 4: 삭제 \\t 9: 종료 ] => \")\n",
    "            if choice == \"1\":\n",
    "                print('\\n\\n\\n데이터 입력을 시작합니다. \\n')\n",
    "                DB.DB_Insert()\n",
    "            elif choice == \"2\":\n",
    "                print('\\n\\n\\n데이터를 출력합니다. \\n')\n",
    "                DB.DB_Select()\n",
    "            elif choice == \"3\":\n",
    "                print('\\n\\n\\n데이터 수정을 시작합니다. \\n')\n",
    "                DB.DB_Update()\n",
    "            elif choice == \"4\":\n",
    "                print('\\n\\n\\n 데이터 삭제를 시작합니다. \\n')\n",
    "                DB.DB_Delete()\n",
    "            elif choice == \"9\":\n",
    "                print(\"\\n\\n\\n프로그램을 종료합니다. \\n\")\n",
    "                break"
   ]
  },
  {
   "cell_type": "code",
   "execution_count": 36,
   "metadata": {
    "scrolled": true
   },
   "outputs": [
    {
     "name": "stdout",
     "output_type": "stream",
     "text": [
      "\n",
      "[ 1: 입력 \t 2: 출력 \t 3: 수정 \t 4: 삭제 \t 9: 종료 ] => 1\n",
      "\n",
      "\n",
      "\n",
      "데이터 입력을 시작합니다. \n",
      "\n",
      " \n",
      "이름 입력 : Min\n",
      "국어성적 입력 : 50\n",
      "수학성적 입력 : 60\n",
      "영어성적 입력 : 70\n",
      "학교 코드 입력 : 4\n",
      "\n",
      "새로운 학생이 등록되었습니다. \n",
      "\n",
      "\n",
      "[ 1: 입력 \t 2: 출력 \t 3: 수정 \t 4: 삭제 \t 9: 종료 ] => 2\n",
      "\n",
      "\n",
      "\n",
      "데이터를 출력합니다. \n",
      "\n",
      "\n",
      "bunho\tname\tkor\tmat\teng\ttotal\taverage\tgrade\tschoolcode\n",
      "1\t김만덕\t100\t99\t99\t298\t99.33\tA\tCH00000001\n",
      "2\t고려인\t100\t99\t99\t298\t99.33\tA\tCH00000001\n",
      "3\t종로구\t100\t80\t70\t250\t83.33\tB\tIC00000001\n",
      "4\t전공인\t80\t80\t80\t240\t80.0\tB\tSE00000001\n",
      "5\t전공이\t80\t80\t80\t240\t80.0\tB\tSE00000001\n",
      "6\t만세\t74\t64\t92\t230\t76.67\tC\tNone\n",
      "7\t한국이\t100\t100\t100\t300\t100.0\tA\tCH00000001\n",
      "16\tTest\t60\t80\t42\t182\t60.67\tD\tNone\n",
      "17\tMin\t50\t60\t70\t180\t60.0\tD\tNone\n",
      "\n",
      "[ 1: 입력 \t 2: 출력 \t 3: 수정 \t 4: 삭제 \t 9: 종료 ] => 9\n",
      "\n",
      "\n",
      "\n",
      "프로그램을 종료합니다. \n",
      "\n"
     ]
    }
   ],
   "source": [
    "Management.start()"
   ]
  }
 ],
 "metadata": {
  "kernelspec": {
   "display_name": "Python 3",
   "language": "python",
   "name": "python3"
  },
  "language_info": {
   "codemirror_mode": {
    "name": "ipython",
    "version": 3
   },
   "file_extension": ".py",
   "mimetype": "text/x-python",
   "name": "python",
   "nbconvert_exporter": "python",
   "pygments_lexer": "ipython3",
   "version": "3.8.3"
  }
 },
 "nbformat": 4,
 "nbformat_minor": 4
}
