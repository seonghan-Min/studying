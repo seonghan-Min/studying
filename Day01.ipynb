{
 "cells": [
  {
   "cell_type": "markdown",
   "metadata": {},
   "source": [
    "# ※ 자료형\n",
    "대입연산자(=) 를 이용하여 변수에 값 할당.\n",
    "같다(==) 와 헷갈리지 않도록 주의.\n",
    "    - 숫자형(int, float)\n",
    "    - 문자형(str)\n",
    "    - 논리형(Boolean)\n",
    "    - 튜플(tuple)\n",
    "    - 딕셔너리(dictionary)\n",
    "    - 리스트(list)\n",
    "    - 집합(set)"
   ]
  },
  {
   "cell_type": "markdown",
   "metadata": {},
   "source": [
    "# 숫자형\n",
    "정수(int)\n",
    "실수(float)\n",
    "    - 정수 & 실수 연산은 실수를 반환.\n",
    "    - 산술연산자\n",
    "        - 더하기(+)\n",
    "        - 빼기(-)\n",
    "        - 곱하기(*)\n",
    "        - 나누기(%)\n",
    "        - 몫(//)\n",
    "        - 제곱(**)"
   ]
  },
  {
   "cell_type": "code",
   "execution_count": null,
   "metadata": {},
   "outputs": [],
   "source": [
    "# 변수에 저장되는 것은 주소. 이 주소를 참조하면 값 도출.\n",
    "# 변수에 변수를 할당하면 주소값이 전달되는 형태.\n",
    "# 주소를 찾아가 값을 꺼내옴.\n",
    "# 변수는 대소문자 구분.\n",
    "\n",
    "a=10\n",
    "A=20\n",
    "b=a\n",
    "print(a)\n",
    "print(A)\n",
    "print(b)\n",
    "print(type(a))\n",
    "print(type(A))\n",
    "print(type(b))\n",
    "print(\"주소값 대입\", id(a))\n",
    "print(\"주소값 대입\", id(A))\n",
    "print(\"주소값 대입\", id(b))"
   ]
  },
  {
   "cell_type": "markdown",
   "metadata": {},
   "source": [
    "# 문자형\n",
    "- 큰 따옴표(\"\")\n",
    "- 작은 따옴표('')\n",
    "- Default 구조는 Array Type. "
   ]
  },
  {
   "cell_type": "code",
   "execution_count": null,
   "metadata": {},
   "outputs": [],
   "source": [
    "# 입력시 문자열로 입력받아 출력.\n",
    "# 문자로 입력받은 수식을 게산도 가능.\n",
    "\n",
    "str01 = \"문자열\"\n",
    "str02 = input(\"수식을 입력하시오 : \")\n",
    "print(str01)\n",
    "print(str01[0], str01[1], str01[2])\n",
    "print(str02)\n",
    "print(eval(str))\n",
    "print()\n",
    "\n",
    "\n",
    "\n",
    "# 변동 문자열\n",
    "# 문자열 사이에 변수를 넣어놓고 원하는 값을 출력.\n",
    "\n",
    "str03 = \"내 이름은 %s 이고 나이는 %i 이다.\"\n",
    "str04 = \"내 이름은 {0} 이고 나이는 {1} 이다.\"\n",
    "print(str03 %('홍길동', 26))\n",
    "print(str04.format(\"홍길동\", \"26\"))\n",
    "print()\n",
    "\n",
    "\n",
    "\n",
    "# 범위연산자\n",
    "# 마지막 값은 포함하지 않는 것을 명심.\n",
    "\n",
    "str05 = \"KOREA\"\n",
    "print(s+s)\n",
    "print(s*3)\n",
    "print(s[0:])\n",
    "print(s[1:3])\n",
    "print(s[-2:])\n",
    "print(s[3:-1])\n",
    "print(len(s))\n",
    "print(str05.capitalize())       # 처음 문자를 대문자로 변환.\n",
    "print(str05.find('R'))          # 해당 문자의 위치 출력.\n",
    "print(str05.count('RE'))        # 해당 문자열의 개수 출력.\n",
    "print(s.replace('R', 'r'))      # 해당 문자열 변환.\n",
    "print()\n",
    "\n",
    "\n",
    "\n",
    "# 분할\n",
    "# 결과를 리스트 타입으로 반환.\n",
    "\n",
    "str06 = '효경, 정윤, 지혜, 다혜'\n",
    "print(str06, \"- 타입은 = \",type(str06))\n",
    "print(str06.split(','), \"- 타입은 = \",type(str06.split(',')))"
   ]
  },
  {
   "cell_type": "markdown",
   "metadata": {},
   "source": [
    "# 논리형\n",
    "참과 거짓을 판단하여 저장.\n",
    "존재하면 '참', 그렇지 않으면 '거짓'\n",
    "- 숫자형\n",
    "    - 0 : 거짓\n",
    "    - 1 : 참\n",
    "- 문자형\n",
    "    - \"\"      : 거짓\n",
    "    - \"Hello\" : 참\n",
    "- 리스트\n",
    "    - [], {}, ()          : 거짓\n",
    "    - [1,2], {1,2}, (1,2) : 참\n",
    "        \n",
    "논리연산자\n",
    "- and : 둘 모두 참일때만 참 반환.\n",
    "- or  : 둘 모두 거짓일때만 거짓 반환.\n",
    "- not : 참이면 거짓 반환."
   ]
  },
  {
   "cell_type": "markdown",
   "metadata": {},
   "source": [
    "# 튜플(Tuple)\n",
    "- 여러 데이터 동시에 저장 가능.\n",
    "- 소괄호() 사용.\n",
    "- 원소는 단순 자료뿐 아니라 튜플도 포함 가능.\n",
    "- 한 번 생성된 튜플은 내부 원소 변경 및 삭제 불가능.\n",
    "- 튜플끼리 연산시 각 튜플의 원소를 모두 갖는 새로운 튜플 생성.\n",
    "- 튜플의 원소에 접근하기 위해선 인덱스(index, []) 사용 필수."
   ]
  },
  {
   "cell_type": "code",
   "execution_count": 3,
   "metadata": {},
   "outputs": [
    {
     "name": "stdout",
     "output_type": "stream",
     "text": [
      "(1, 2, 3, 4, 5, 6, 7, 8)\n",
      "6\n"
     ]
    }
   ],
   "source": [
    "tuple01 = (1,2,3,4)\n",
    "tuple02 = (5,6,7,8)\n",
    "tuple03 = tuple01 + tuple02\n",
    "print(tuple03)\n",
    "print(tuple03[5])"
   ]
  },
  {
   "cell_type": "markdown",
   "metadata": {},
   "source": [
    "# 딕셔너리(Dictionary)\n",
    "- 사전형 데이터.\n",
    "- 중괄호{} 사용.\n",
    "- Key : Value 형태.\n",
    "- Key 값은 변경 불가. Value는 변경 가능."
   ]
  },
  {
   "cell_type": "code",
   "execution_count": 9,
   "metadata": {
    "scrolled": true
   },
   "outputs": [
    {
     "name": "stdout",
     "output_type": "stream",
     "text": [
      "{'name': 'Min', 'age': 26}\n",
      "{'name': 'Seong', 'age': 27}\n",
      "{'name': 'Han', 'age': 28}\n",
      "Min\n",
      "26\n"
     ]
    }
   ],
   "source": [
    "# 생성 방법 - 첫 번째\n",
    "dic01 = {'name':\"Min\", 'age':26}\n",
    "print(dic01)\n",
    "print(dic01[\"name\"])\n",
    "print(dic01[\"age\"])\n",
    "\n",
    "\n",
    "\n",
    "# 생성 방법 - 두 번째\n",
    "dic02 = {}\n",
    "dic02[\"name\"] = \"Seong\"\n",
    "dic02[\"age\"] = 27\n",
    "print(dic02)\n",
    "\n",
    "\n",
    "\n",
    "# 업데이트\n",
    "dic03_data = {'name':\"Han\", 'age':28}\n",
    "dic03 = {}\n",
    "dic03.update(dic03_data)\n",
    "print(dic03)"
   ]
  },
  {
   "cell_type": "markdown",
   "metadata": {},
   "source": [
    "# 리스트(List)\n",
    "- 원소들이 연속적으로 저장된 자료 형태.\n",
    "- 요소는 단순 자료형 뿐만 아니라 튜플, 딕셔너리 포함 가능."
   ]
  },
  {
   "cell_type": "code",
   "execution_count": null,
   "metadata": {},
   "outputs": [],
   "source": [
    "# 리스트(list)\n",
    "\n",
    "a = [1,2,3,['a','b','c'],4,5]\n",
    "print(a[2:5])\n",
    "print(a[3][1])\n",
    "b = list(range(1, 6, 1))\n",
    "print(b)\n",
    "\n",
    "mat = [[1,2,3],[4,5,6],[7,8,9]]\n",
    "print(mat)\n",
    "mat = [[0]*4]*3\n",
    "mat[0][0] = 100\n",
    "print(mat)\n",
    "\n",
    "\n",
    "\n",
    "\n",
    "# list를 이용하여 Stack 생성\n",
    "# Stack은 밑이 막혀있는 자료구조 (LIFO : Last In First Out)\n",
    "\n",
    "a = [10,20,30,40,50]\n",
    "a.append(60)\n",
    "print(a.pop())\n",
    "a.append(70)\n",
    "a.append(80)\n",
    "print(a.pop())\n",
    "\n",
    "\n",
    "\n",
    "\n",
    "li = [4,7,8]\n",
    "lj = [5,6,7]\n",
    "print(li+lj)\n",
    "print(sum(li))\n",
    "print(sum(lj))\n",
    "print(sum(li+lj))"
   ]
  },
  {
   "cell_type": "markdown",
   "metadata": {},
   "source": [
    "# 집합(Set)\n",
    "- 중복되는 원소 허용 X.\n",
    "- 순서에 상관 X.\n",
    "- 리스트처럼 인덱스 번호를 사용하여 접근 X.\n",
    "- 자료형 뿐만 아니라 다양한 타입을 원소로 포함 가능."
   ]
  },
  {
   "cell_type": "markdown",
   "metadata": {},
   "source": [
    "# 형변환 (Casting)"
   ]
  },
  {
   "cell_type": "code",
   "execution_count": null,
   "metadata": {},
   "outputs": [],
   "source": [
    "print(int(\"23\")) # int 타입도 객체. 객체도 함수처럼 호출 및 사용 가능.\n",
    "print(float(\"23\")) # Python에 dobule형 존재 X.\n",
    "print(eval(\"23\"))\n",
    "x=5\n",
    "print(eval(\"23 + (x*x)\"))"
   ]
  },
  {
   "cell_type": "code",
   "execution_count": null,
   "metadata": {},
   "outputs": [],
   "source": [
    "# 일반적으로 중괄호{} 를 사용하여 블럭을 생성하지만\n",
    "# jupyter에선 콜론(:) 과 함께 다음줄에 들여쓰기를 하면 블럭 취급된다.\n",
    "\n",
    "num1 = input(\"정수를 입력하시오 : \")\n",
    "num2 = input(\"정수를 입력하시오 : \")\n",
    "hab = int(num1) + int(num2)\n",
    "qoutient = hab//2\n",
    "remainder = hab %2\n",
    "print(\"입력된 수를 2로 나눈 결과 : 몫 = \", qoutient, \" 나머지 = \", remainder)\n",
    "if remainder ==0:\n",
    "    print(\"짝수입니다.\")\n",
    "else:\n",
    "    print(\"홀수입니다.\")"
   ]
  },
  {
   "cell_type": "markdown",
   "metadata": {},
   "source": [
    "# def : define. 함수를 생성. \n",
    "# 데이터 타입을 지정하지 않음. 리턴값 또한 지정하지 않음.\n",
    "- def 안에 생성된 변수 및 데이터는 stack 메모리 영역에 할당됨. 지역변수로 사용.\n",
    "- def 함수가 종료되는 순간 메모리에서 변수 및 데이터 휘발.\n",
    "- 작은 메모리로 많은 양의 데이터 사용 가능."
   ]
  },
  {
   "cell_type": "code",
   "execution_count": null,
   "metadata": {},
   "outputs": [],
   "source": [
    "x = 300\n",
    "def myfunc():\n",
    "    x=200\n",
    "    print(x)\n",
    "myfunc()\n",
    "print(x)"
   ]
  },
  {
   "cell_type": "code",
   "execution_count": null,
   "metadata": {},
   "outputs": [],
   "source": [
    "# Default로 로딩되어지는 패키지가 아닌 외부 패키지 이용.\n",
    "# import 사용하여 랜덤 패키지 등록.\n",
    "\n",
    "import random\n",
    "print(random.randint(1,5))\n",
    "elements = [\"earth\", 1, \"fire\", \"water\"]\n",
    "elements[0] = \"earths\"\n",
    "print(random.choice(elements))\n",
    "print(random.sample(elements, 2))\n",
    "random.shuffle(elements)\n",
    "print(elements)"
   ]
  },
  {
   "cell_type": "markdown",
   "metadata": {},
   "source": [
    "# Swaping\n",
    "- 일반적으로 두 값을 서로 교환(swaping) 하기 위해선\n",
    "- 별도의 변수를 만들어 하나의 값을 저장해놓는 방법을 사용해야한다.\n",
    "- 하지만 Phython에선 그럴 필요 없이 값의 swaping이 가능하다."
   ]
  },
  {
   "cell_type": "code",
   "execution_count": null,
   "metadata": {},
   "outputs": [],
   "source": [
    "x=5\n",
    "y=6\n",
    "print(x,y)\n",
    "x, y = y,x\n",
    "print(x,y)"
   ]
  },
  {
   "cell_type": "markdown",
   "metadata": {},
   "source": [
    "# 객체지향 언어 - 상속을 사용하는 프로그램\n",
    "- 오버라이딩(상속함수 재정의)\n",
    "- 오버로딩(똑같은 함수 이름. 다른 매개변수 타입 및 개수)\n",
    "    - 단, 파이썬에서는 함수 이름이 같으면 안됨.\n",
    "    - 파이썬은 함수의 다중리턴이 가능."
   ]
  },
  {
   "cell_type": "code",
   "execution_count": null,
   "metadata": {},
   "outputs": [],
   "source": [
    "def calc(a,b):\n",
    "    return a+b, a*b\n",
    "x,y = calc(3,4)\n",
    "print(x,y)\n",
    "print(x)\n",
    "args=(4,5)\n",
    "calc(*args)  # 매개변수 전달시 * 사용하여 표시. 변동 매개변수 의미."
   ]
  },
  {
   "cell_type": "code",
   "execution_count": null,
   "metadata": {},
   "outputs": [],
   "source": [
    "cities = ('seoul', 'incheon', 'suwon')\n",
    "print(cities.index('suwon'))\n",
    "print('incheon' in cities)\n",
    "print(cities.count('seoul'))\n",
    "print(sorted(cities))\n",
    "sorted(cities, reverse = True)\n",
    "print(cities)"
   ]
  },
  {
   "cell_type": "code",
   "execution_count": null,
   "metadata": {},
   "outputs": [],
   "source": [
    "cities = ['seoul', 'incheon', 'suwon']\n",
    "print(cities)\n",
    "cities.append('busan')\n",
    "print(cities)\n",
    "cities.insert(0,'daegu')\n",
    "print(cities)\n",
    "other_cities = ['jeju', 'kwangju']\n",
    "print('결합', cities + other_cities)\n",
    "cities.append(['daejun', 'ulsan'])\n",
    "cities.extend(['jeju', 'kwangju'])\n",
    "print(cities)\n",
    "print('daegu' in cities)"
   ]
  },
  {
   "cell_type": "markdown",
   "metadata": {},
   "source": [
    "# 정렬"
   ]
  },
  {
   "cell_type": "code",
   "execution_count": null,
   "metadata": {},
   "outputs": [],
   "source": [
    "manarchs = [(\"대한\",1), (\"민국\",3), (\"만세\", 6), (\"야호\",1)]\n",
    "manarchs.sort()\n",
    "print(manarchs)"
   ]
  },
  {
   "cell_type": "markdown",
   "metadata": {},
   "source": [
    "# 람다(lambda) 함수\n",
    "- 함수를 통해 함수의 매개변수를 다른 함수에게 전달."
   ]
  },
  {
   "cell_type": "code",
   "execution_count": null,
   "metadata": {},
   "outputs": [],
   "source": [
    "manarchs.sort(key=lambda row: row[1])\n",
    "print(manarchs)\n",
    "manarchs.sort(key=lambda row: row[1], reverse = True)\n",
    "print(manarchs)\n",
    "\n",
    "\n",
    "school = []\n",
    "for i in range(4):\n",
    "    jumsu =[]\n",
    "    name = input(\"이름을 입력하시오 : \")\n",
    "    kor = eval(input(\"점수를 입력하시오 : \"))\n",
    "    jumsu.append(name)\n",
    "    jumsu.append(kor)\n",
    "    school.append(jumsu)\n",
    "shcool.sort(key=lambda row: row[1])\n",
    "print(shcool)"
   ]
  },
  {
   "cell_type": "markdown",
   "metadata": {},
   "source": [
    "# 연습문제\n",
    "- 위의 정수를 입력받은 데이터를 처리하여 몫과 나머지를 출력하는 함수를 작성하시오."
   ]
  },
  {
   "cell_type": "code",
   "execution_count": null,
   "metadata": {},
   "outputs": [],
   "source": [
    "def clac(num1, num2):\n",
    "    hab = int(num1) + int(num2)\n",
    "    qoutient = hab//2\n",
    "    remainder = hab %2\n",
    "    print(\"입력된 수를 2로 나눈 결과 : 몫 = \", qoutient, \" 나머지 = \", remainder)\n",
    "\n",
    "num1 = input(\"정수를 입력하시오 : \")\n",
    "num2 = input(\"정수를 입력하시오 : \")\n",
    "clac(num1, num2)"
   ]
  },
  {
   "cell_type": "markdown",
   "metadata": {},
   "source": [
    "# 연습문제\n",
    "- 하나의 데이터를 입력받아 3 개의 경우의 수 출력.\n",
    "- 0 = 가위, 1 = 바위, 2 = 보"
   ]
  },
  {
   "cell_type": "code",
   "execution_count": null,
   "metadata": {
    "scrolled": true
   },
   "outputs": [],
   "source": [
    "num = input(\"정수를 입력하시오 : \")\n",
    "rem = int(num) %3\n",
    "if rem == 0:\n",
    "    print(\"가위 ( 나머지 = \",rem,\")\" )\n",
    "if rem == 1:\n",
    "    print(\"바위 ( 나머지 = \",rem,\")\" )\n",
    "else :\n",
    "    print(\"보 ( 나머지 = \",rem,\")\" )"
   ]
  },
  {
   "cell_type": "markdown",
   "metadata": {},
   "source": [
    "# 연습문제\n",
    "- 국어, 영어, 수학 점수를 입력받고 합계와 평균을 출력하시오.\n",
    "- 단, 평균은 소수점 2자리 까지 표현하시오."
   ]
  },
  {
   "cell_type": "code",
   "execution_count": null,
   "metadata": {},
   "outputs": [],
   "source": [
    "n = input(\"이름을 입력하시오 : \")\n",
    "a = input(\"국어 성적을 입력하시오 : \")\n",
    "b = input(\"영어 성적을 입력하시오 : \")\n",
    "c = input(\"수학 성적을 입력하시오 : \")\n",
    "abc = int(a) +int(b) +int(c)\n",
    "avg = round(abc/3, 2)\n",
    "print(\"이름\".center(10), \"국어\".center(10), \"영어\".center(10), \"수학\".center(10),\n",
    "      \"합계\".center(10), \"평균\".center(10), sep=\"\")\n",
    "print(n.center(10), a.center(10), b.center(10), c.center(10),\n",
    "     str(abc).rjust(10), str(avg).rjust(10), sep=\"\")"
   ]
  },
  {
   "cell_type": "markdown",
   "metadata": {},
   "source": [
    "# 연습문제\n",
    "- 과일을 100.50원에 세금이 12.5%를 붙여서 팔았다.\n",
    "- 세금과 매출액은 얼마인지 출력하시오.\n",
    "- 소수점 2자리 까지 표현하시오."
   ]
  },
  {
   "cell_type": "code",
   "execution_count": null,
   "metadata": {},
   "outputs": [],
   "source": [
    "item = 100.50\n",
    "vat = 100.50*0.125\n",
    "tot = item + vat\n",
    "print(\"세금 : \", round(vat,2))\n",
    "print(\"매출 : \", round(tot,2))"
   ]
  },
  {
   "cell_type": "markdown",
   "metadata": {},
   "source": [
    "# 연습문제\n",
    "- 3개의 수를 입력받아서 가장 큰 수를 출력하시오."
   ]
  },
  {
   "cell_type": "code",
   "execution_count": null,
   "metadata": {},
   "outputs": [],
   "source": [
    "x = input(\"정수를 입력하시오.\")\n",
    "y = input(\"정수를 입력하시오.\")\n",
    "z = input(\"정수를 입력하시오.\")\n",
    "list = [x, y, z]\n",
    "print(\"가장 큰 수는 \", max(list), \"입니다.\")"
   ]
  }
 ],
 "metadata": {
  "kernelspec": {
   "display_name": "Python 3",
   "language": "python",
   "name": "python3"
  },
  "language_info": {
   "codemirror_mode": {
    "name": "ipython",
    "version": 3
   },
   "file_extension": ".py",
   "mimetype": "text/x-python",
   "name": "python",
   "nbconvert_exporter": "python",
   "pygments_lexer": "ipython3",
   "version": "3.8.3"
  }
 },
 "nbformat": 4,
 "nbformat_minor": 4
}
