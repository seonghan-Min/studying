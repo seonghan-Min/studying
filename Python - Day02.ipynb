{
 "cells": [
  {
   "cell_type": "markdown",
   "metadata": {},
   "source": [
    "# Day 02"
   ]
  },
  {
   "cell_type": "markdown",
   "metadata": {},
   "source": [
    "# 데이터 타입과 자료구조\n",
    "    - List  : 삽입 삭제에 용이.\n",
    "    - Tuple : 수정이 불가능.\n",
    "    - Dict  : {Key : Value} 방식. 빠른 검색속도.\n",
    "    - Set   : key 만으로 구성. 데이터 중복 비허용."
   ]
  },
  {
   "cell_type": "code",
   "execution_count": null,
   "metadata": {},
   "outputs": [],
   "source": [
    "tupl = ('K', 'o', 'r', 'e', 'a')\n",
    "print(tupl)\n",
    "\n",
    "tupl = tuple('Korea')\n",
    "print(tupl)\n",
    "\n",
    "tupl = tuple(['K', 'o', 'r', 'e', 'a'])\n",
    "print(tupl)\n",
    "\n",
    "print(tupl[0])\n",
    "print(tupl[-1])\n",
    "print(tupl[-2:])\n",
    "print(len(tupl))"
   ]
  },
  {
   "cell_type": "markdown",
   "metadata": {},
   "source": [
    "# 수학함수\n",
    "반드시 math 함수를 import 하고 시작.\n",
    "    - math.ceil       : 올림\n",
    "    - math.floor      : 내림\n",
    "    - math.factorial  : 팩토리얼\n",
    "    - math.trunc      : 절사\n",
    "    - math.gcd        : 최대공약수(greatest common divisor)\n",
    "    - math.pi         : 라디안\n",
    "    - math.sin        : sin함수\n",
    "    - math.cos        : cos함수"
   ]
  },
  {
   "cell_type": "code",
   "execution_count": null,
   "metadata": {},
   "outputs": [],
   "source": [
    "import math\n",
    "\n",
    "print(math.ceil(2.5646))\n",
    "\n",
    "print(math.pi)\n",
    "print(math.sin(math.pi))\n",
    "print(math.sin(math.pi/2))\n",
    "\n",
    "\n",
    "\n",
    "# 문제\n",
    "# 45도에 대한 sin 값은?\n",
    "print(\"문제1 : \", math.sin(math.radians(45)))\n",
    "\n",
    "\n",
    "\n",
    "# 문제\n",
    "# 대각선이 8이고 그 사이각이 45도라면 밑변의 길이와 높이를 구하시오.\n",
    "print(\"문제2 - 밑변 : \", round(8*(math.cos(math.pi/4)), 2))\n",
    "print(\"문제2 - 높이 : \", round(8*(math.sin(math.pi/4)), 2))"
   ]
  },
  {
   "cell_type": "markdown",
   "metadata": {},
   "source": [
    "# 조건문\n",
    "    - 거짓조건 : 문자 '', \"\", [], {}, (), 0\n",
    "    - 관계연산자와 논리연산자"
   ]
  },
  {
   "cell_type": "code",
   "execution_count": null,
   "metadata": {},
   "outputs": [],
   "source": [
    "num = 0\n",
    "if num :\n",
    "    print(num)\n",
    "if not num :\n",
    "    print('not num')\n",
    "    \n",
    "    \n",
    "city = ''\n",
    "if city :\n",
    "    print(\"데이터 존재.\")\n",
    "if not city :\n",
    "    print(\"데이터 비존재\")\n",
    "    \n",
    "    \n",
    "\n",
    "# 문제\n",
    "# 수입과 지출을 입력받아 순수입을 출력하는 프로그램 작성.\n",
    "# 제약조건\n",
    "    # 소수점 2자리 까지 입력.\n",
    "    # 수입과 지출이 동일한 경우 고려.\n",
    "    # 결과에 따라 순수입, 순지출 동일하게 출력.\n",
    "    # 변수명에 함축적 의미 표현.\n",
    "    income = float(input(\"수입을 입력하시오 : \"))\n",
    "    cost = float(input(\"지출을 입력하시오 : \"))\n",
    "    Net_income = round(income - cost, 2)\n",
    "    if Net_income ==0 :\n",
    "        print(\"수입과 지출이 동일합니다.\")\n",
    "    else :\n",
    "        print(\"수입 : \", income, \"원\")\n",
    "        print(\"지출 : \", cost, \"원\")\n",
    "        print(\"순수입 : \", Net_income, \"원\")\n"
   ]
  },
  {
   "cell_type": "markdown",
   "metadata": {},
   "source": [
    "# 반복문 \n",
    "in 뒤에 코딩.\n",
    "    - Collection : 자료구조 list, tuple, dict, set\n",
    "    - Iterator   : 반복자 range\n",
    "    - Generator  : 생성기\n",
    "    - enumerator : 범주형 순서와 데이터 매핑"
   ]
  },
  {
   "cell_type": "code",
   "execution_count": null,
   "metadata": {},
   "outputs": [],
   "source": [
    "# 문제\n",
    "rows = range(1,5)\n",
    "cols = range(10,15)\n",
    "vector = [(r,c) \n",
    "          for r in rows \n",
    "          for c in cols]\n",
    "print(vector)\n",
    "\n",
    "\n",
    "\n",
    "# 문제\n",
    "vectors = [(r,c)\n",
    "           for r in rows if r%2\n",
    "           for c in cols if c%2]\n",
    "print(vectors)\n",
    "\n",
    "\n",
    "\n",
    "# 문제\n",
    "# 1, 20까지의 범위 수 중에 3의 배수와 5의 배수인 경우는 \"3의배수\" 또는 \"5의배수\" 로 표현\n",
    "# 아닌 경우에 대해선 숫자로 표현하는 리스트 생성\n",
    "[\"3의 배수\" * (i%3==0) + \"5의 배수\" * (i%5==0) or i for i in range(1,21)]"
   ]
  },
  {
   "cell_type": "markdown",
   "metadata": {},
   "source": [
    "# 연습문제\n",
    "다음 표(color와 mode에 따른 날씨)를 if문을 이용하여 처리.\n",
    "color와 mod를 입력받아 처리.\n",
    "- 반응에 따른 날씨 예측 프로그래\n",
    "- Blue / Red\n",
    "- Steady :화창 / 비\n",
    "- Falshing : 구름 / 눈"
   ]
  },
  {
   "cell_type": "code",
   "execution_count": null,
   "metadata": {},
   "outputs": [],
   "source": [
    "color = input(\"input color : \")\n",
    "mode = input(\"input mode : \")\n",
    "if color == 'Blue' and mode == 'Steady' :\n",
    "    print(\"화창\")\n",
    "elif color == 'Blue' and mode == 'Flashing' :\n",
    "    print(\"구름\")\n",
    "elif color == 'Red' and mode == 'Steady' :\n",
    "    print(\"비\")\n",
    "elif color == 'Red' and mode == 'Flashing' :\n",
    "    print(\"눈\")"
   ]
  },
  {
   "cell_type": "markdown",
   "metadata": {},
   "source": [
    "# 연습문제\n",
    "제곱미터로 입력되는 아파트 면적을 평형으로 계산하여 종류를 판정하는 프로그램 작성.\n",
    "- 소형(17), 중소형(25), 중형(30)\n",
    "- 평형수 = 제곱미터 / 3.305"
   ]
  },
  {
   "cell_type": "code",
   "execution_count": null,
   "metadata": {},
   "outputs": [],
   "source": [
    "size  = float(input(\"면적을 입력해주세요 (단위 : 제곱미터) : \"))\n",
    "area = size/3.305\n",
    "if area<=17:\n",
    "    result = \"소형\"\n",
    "elif area<=25 and area>17:\n",
    "    result = \"중소형\"\n",
    "elif area>30:\n",
    "    result = \"중형\"\n",
    "print(\"아파트 면적에 따른 평수는 : \", result)"
   ]
  },
  {
   "cell_type": "markdown",
   "metadata": {},
   "source": [
    "# 연습문제\n",
    "미성년자 여부를 판단하는 프로그램을 작성\n",
    "- 생년월일은 8글자로 입력받아 년, 월, 일 배열로 변환.\n",
    "- 년, 월, 일 각각 변수에 대입한 뒤, 현재 날짜 기준으로 나이 계산.\n",
    "- 18살 미만이면 미성년자 출력.\n"
   ]
  },
  {
   "cell_type": "code",
   "execution_count": null,
   "metadata": {},
   "outputs": [],
   "source": [
    "age = input(\"생년월일을 8글자로 입력하세요 (ex. 20080104) : \")\n",
    "\n",
    "import datetime\n",
    "today_year = datetime.datetime.now().year\n",
    "year = age[0:4]\n",
    "month = age[4:6]\n",
    "day = age[6:8]\n",
    "real_age = int(today_year) - int(year)\n",
    "print(\"입력된 생년월일 : \", year, \"년\", month, \"월\", day, \"일\")\n",
    "print(\"나이 : \", real_age)\n",
    "if real_age<18:\n",
    "    result = \"O\"\n",
    "else :\n",
    "    result = \"X\"\n",
    "print(\"미성년자 해당 여부 : \", result)"
   ]
  },
  {
   "cell_type": "markdown",
   "metadata": {},
   "source": [
    "# 연습문제\n",
    "소득세율표 기준 입력된 소득에 따라 세금 계산.\n",
    "- 1200만원 이하 6%\n",
    "- 4600만원 이하 15%\n",
    "- 8800만원 이하 24%\n",
    "- 1억5천 만원 이하 35%\n"
   ]
  },
  {
   "cell_type": "code",
   "execution_count": null,
   "metadata": {},
   "outputs": [],
   "source": [
    "income = int(input(\"소득을 입력하세요 (단위 : 만원) = \"))\n",
    "if income <= 1200:\n",
    "    result = int(income)*0.06\n",
    "elif income <= 4600:\n",
    "    result = int(income)*0.15\n",
    "elif income <= 8800:\n",
    "    result = int(income)*0.24\n",
    "elif income <= 15000:\n",
    "    result = int(income)*0.35\n",
    "print(\"소득에 따른 세금은  = \", result, \"(만원) 입니다.\")"
   ]
  },
  {
   "cell_type": "markdown",
   "metadata": {},
   "source": [
    "# 연습문제\n",
    "놀이공원 매표소 단체 입장료 게산\n",
    "- 팀별 인원 구성을 입력(초등, 청소년, 일반, 경로)\n",
    "- 정산요금 : 초등(5,000원), 청소년(10,000원), 일반(15,000원), 경로(3,000)원\n",
    "- 할인요금 : 일반카드(10%), VIP(20%)"
   ]
  },
  {
   "cell_type": "code",
   "execution_count": 6,
   "metadata": {},
   "outputs": [
    {
     "name": "stdout",
     "output_type": "stream",
     "text": [
      "초등학생 인원 : 1\n",
      "청소년 인원 : 2\n",
      "일반 인원 : 3\n",
      "경로 인원 : 4\n",
      "카드없음(0), 일반카드(1), VIP(2)를 선택해주세요.2\n",
      "총 요금은  82000 할인된 요금은  65600 입니다.\n"
     ]
    }
   ],
   "source": [
    "young = int(input(\"초등학생 인원 : \"))\n",
    "teen = int(input(\"청소년 인원 : \"))\n",
    "common = int(input(\"일반 인원 : \"))\n",
    "elder = int(input(\"경로 인원 : \"))\n",
    "tot = young*5000 + teen*10000 + common*15000 + elder*3000\n",
    "\n",
    "card = int(input(\"카드없음(0), 일반카드(1), VIP(2)를 선택해주세요 : \"))\n",
    "select = [tot, tot*0.9, tot*0.8]\n",
    "print(\"총 요금은 \", tot, \"할인된 요금은 \", int(select[card]), \"입니다.\")"
   ]
  },
  {
   "cell_type": "markdown",
   "metadata": {},
   "source": [
    "# 연습문제\n",
    "별찍기"
   ]
  },
  {
   "cell_type": "code",
   "execution_count": 7,
   "metadata": {},
   "outputs": [
    {
     "name": "stdout",
     "output_type": "stream",
     "text": [
      "숫자를 입력하시오 : 5\n",
      "\n",
      "*\n",
      "**\n",
      "***\n",
      "****\n"
     ]
    }
   ],
   "source": [
    "num_Rows = int(input('숫자를 입력하시오 : '))\n",
    "for i in range(num_Rows) : \n",
    "    for j in range(i) :\n",
    "        print('*', end='')\n",
    "    print()"
   ]
  },
  {
   "cell_type": "code",
   "execution_count": 8,
   "metadata": {},
   "outputs": [
    {
     "name": "stdout",
     "output_type": "stream",
     "text": [
      "숫자를 입력하시오 : 5\n",
      "*****\n",
      "****\n",
      "***\n",
      "**\n",
      "*\n"
     ]
    }
   ],
   "source": [
    "num_Rows = int(input('숫자를 입력하시오 : '))\n",
    "for i in range(num_Rows) : \n",
    "    for j in range(num_Rows-i) :\n",
    "        print('*', end='')\n",
    "    print()"
   ]
  },
  {
   "cell_type": "code",
   "execution_count": 9,
   "metadata": {
    "scrolled": true
   },
   "outputs": [
    {
     "name": "stdout",
     "output_type": "stream",
     "text": [
      "숫자를 입력하시오 : 5\n",
      "     *\n",
      "    ***\n",
      "   *****\n",
      "  *******\n",
      " *********\n"
     ]
    }
   ],
   "source": [
    "num_Rows = int(input('숫자를 입력하시오 : '))\n",
    "for i in range(num_Rows):\n",
    "    for k in range(num_Rows-i):\n",
    "        print(\" \", end='')\n",
    "    for j in range(i+1):\n",
    "        print(\"*\", end='')\n",
    "    for j in range(i):\n",
    "        print(\"*\", end='')\n",
    "    print()"
   ]
  },
  {
   "cell_type": "code",
   "execution_count": 10,
   "metadata": {},
   "outputs": [
    {
     "name": "stdout",
     "output_type": "stream",
     "text": [
      "      \n",
      "     *\n",
      "    ***\n",
      "   *****\n",
      "  *******\n",
      " *********\n"
     ]
    }
   ],
   "source": [
    "for i in range(num_Rows+1) : \n",
    "    print(' '*(num_Rows-i), '*'*(2*i-1))"
   ]
  }
 ],
 "metadata": {
  "kernelspec": {
   "display_name": "Python 3",
   "language": "python",
   "name": "python3"
  },
  "language_info": {
   "codemirror_mode": {
    "name": "ipython",
    "version": 3
   },
   "file_extension": ".py",
   "mimetype": "text/x-python",
   "name": "python",
   "nbconvert_exporter": "python",
   "pygments_lexer": "ipython3",
   "version": "3.8.3"
  }
 },
 "nbformat": 4,
 "nbformat_minor": 4
}
