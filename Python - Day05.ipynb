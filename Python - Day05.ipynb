{
 "cells": [
  {
   "cell_type": "code",
   "execution_count": null,
   "metadata": {},
   "outputs": [],
   "source": [
    "width = 10\n",
    "height = 20\n",
    "area = 10*20/2\n",
    "print(\"삼각형의 넓이는 = \", area)\n"
   ]
  },
  {
   "cell_type": "code",
   "execution_count": null,
   "metadata": {},
   "outputs": [],
   "source": [
    "# 객체 지향 프로그래밍의 클래스 선언\n",
    "# 문법상 self를 멤버 한수 안에 반드시 지정.\n",
    "\n",
    "class Triangle:\n",
    "    def setData(self, width, height):\n",
    "        self.width = width\n",
    "        self.height = height\n",
    "    def area(self):\n",
    "        return self.width*self.height/2\n",
    "tri1 = Triangle()\n",
    "tri1.setData(10,20)\n",
    "print(tri1.width, tri1.height, tri1.area())"
   ]
  },
  {
   "cell_type": "code",
   "execution_count": null,
   "metadata": {},
   "outputs": [],
   "source": [
    "print(hash(tri1))\n",
    "tri1.setData(30,40)"
   ]
  },
  {
   "cell_type": "code",
   "execution_count": null,
   "metadata": {},
   "outputs": [],
   "source": [
    "class Triangle:\n",
    "    def __init__(self, width, height):\n",
    "        self.width = width\n",
    "        self.height = height\n",
    "    def area(self):\n",
    "        return self.width * self.height/2\n",
    "tri1 = Triangle(10,20)\n",
    "print(tri1.width, tri1.height, tri1.area())"
   ]
  },
  {
   "cell_type": "code",
   "execution_count": null,
   "metadata": {},
   "outputs": [],
   "source": [
    "class Triangle:\n",
    "    def __init__(self, b, h):\n",
    "        self.b = b\n",
    "        self.h = h\n",
    "    def getb(self):\n",
    "        return self.b\n",
    "    def setb(self, value):\n",
    "        if value > 50: value = 50\n",
    "        self.b = value\n",
    "    def geth(self):\n",
    "        return self.h\n",
    "    def seth(self, value):\n",
    "        if value > 60 : value = 60\n",
    "        set.h = value\n",
    "    def area(self):\n",
    "        return self.b * self.h / 2\n",
    "tri1 = Triangle(4,5)\n",
    "tri1.b = 100\n",
    "tri1.h = 200\n",
    "print(tri1.b, tri1.h, tri1.area())"
   ]
  },
  {
   "cell_type": "code",
   "execution_count": null,
   "metadata": {},
   "outputs": [],
   "source": [
    "class MyClass(object):\n",
    "    \"\"\"클래스 변수의 예\"\"\"\n",
    "    i = 123456\n",
    "    def __init__(self):\n",
    "        self.i = 54321\n",
    "        num = 100\n",
    "    def f(self):\n",
    "        return self.i\n",
    "MyClass.__doc__"
   ]
  },
  {
   "cell_type": "code",
   "execution_count": null,
   "metadata": {},
   "outputs": [],
   "source": [
    "print(MyClass.i)\n",
    "myclass = MyClass()\n",
    "print(myclass.i)\n",
    "myclass.f()"
   ]
  },
  {
   "cell_type": "code",
   "execution_count": null,
   "metadata": {},
   "outputs": [],
   "source": [
    "MyClass().i\n",
    "MyClass().f"
   ]
  },
  {
   "cell_type": "code",
   "execution_count": null,
   "metadata": {},
   "outputs": [],
   "source": [
    "from time import time, ctime, sleep\n",
    "class Life:\n",
    "    def __init__(self):\n",
    "        self.birth = ctime()\n",
    "        print(\"생성\", self.birth)\n",
    "    def __del__(self):\n",
    "        print('사망', ctime())\n",
    "    def test(self):\n",
    "        print('3초간 쉽니다.')\n",
    "        sleep(3)\n",
    "li = Life()\n",
    "li.test()\n",
    "del li"
   ]
  },
  {
   "cell_type": "code",
   "execution_count": null,
   "metadata": {},
   "outputs": [],
   "source": [
    "class Employee:\n",
    "    empCount = 0\n",
    "    def __init__(self, name, salary):\n",
    "        self.name = name\n",
    "        self.salary = salary\n",
    "        Employee.empCount += 1\n",
    "    def displayCount(self):\n",
    "        print(\"직원수 = %d\" %Employee.empCount)\n",
    "    def displayEmployee(self):\n",
    "        print(\"이름 : \", self.name, \", 급여 : \", self.salary)\n",
    "    def __call__(self, *pargs, **kargs):\n",
    "        print(\"호출됨. \", pargs, kargs)"
   ]
  },
  {
   "cell_type": "code",
   "execution_count": null,
   "metadata": {},
   "outputs": [],
   "source": [
    "emp01 = Employee(\"대한민국\", 500)\n",
    "emp01.displayCount()\n",
    "emp02 = Employee(\"빅데이터\", 1000)\n",
    "emp02.displayCount()\n",
    "emp01.displayCount()"
   ]
  },
  {
   "cell_type": "code",
   "execution_count": null,
   "metadata": {},
   "outputs": [],
   "source": [
    "emp01(\"태풍\", 500, 100, ㅊ=100)"
   ]
  },
  {
   "cell_type": "code",
   "execution_count": null,
   "metadata": {},
   "outputs": [],
   "source": [
    "emp01.age = 30\n",
    "emp01.age = 40\n",
    "\n",
    "print(emp01.age)"
   ]
  },
  {
   "cell_type": "markdown",
   "metadata": {},
   "source": [
    "# 연습문제\n",
    "- 이름과 나이를 저장하는 Student class를 생성하시오.\n",
    "- 이름과 나이를 출력하는 pirnt함수를 생성하시오."
   ]
  },
  {
   "cell_type": "code",
   "execution_count": null,
   "metadata": {},
   "outputs": [],
   "source": [
    "class Student:\n",
    "    def __init__(self, name, age):\n",
    "        self.name = name\n",
    "        self.age = age\n",
    "    def displayStudent(self):\n",
    "        print(\"이름 \\t 나이\")\n",
    "        print(self.name, \"\\t\", self.age)\n",
    "        \n",
    "std01 = Student(\"Min\", 26)\n",
    "std02 = Student(\"Seong\", 27)\n",
    "std03 = Student(\"Han\", 28)\n",
    "\n",
    "std01.displayStudent()"
   ]
  },
  {
   "cell_type": "markdown",
   "metadata": {},
   "source": [
    "# 연습문제\n",
    "- 2차원에서 하나의 정점을 표현하는 좌표(x,y) 출력"
   ]
  },
  {
   "cell_type": "code",
   "execution_count": null,
   "metadata": {},
   "outputs": [],
   "source": [
    "import math\n",
    "class Point:\n",
    "    def __init__(self, x,y):\n",
    "        self.x = x\n",
    "        self.y = y\n",
    "    def __repr__(self):\n",
    "        return \"좌표는 ($d, $d)\" %(self.x, self.y)\n",
    "    def dist(self, other):\n",
    "        distance = math.sqrt((self.x-other.x)**2 + (self.y-other.y)**2)\n",
    "        return distance\n",
    "    def collision(self, other):\n",
    "        return self.dist(other)<3"
   ]
  },
  {
   "cell_type": "code",
   "execution_count": null,
   "metadata": {
    "scrolled": true
   },
   "outputs": [],
   "source": [
    "first  = Point(7,3)\n",
    "second = Point(4,7)\n",
    "print(\"두 점 사이의 거리는 : \", first.dist(second))\n",
    "if first.collision(second):\n",
    "    print(\"충돌했습니다.\")\n",
    "else:\n",
    "    print(\"충돌하지 않았습니다.\")"
   ]
  },
  {
   "cell_type": "markdown",
   "metadata": {},
   "source": [
    "# 연습문제\n",
    "- 두 개의 원을 그리고 충돌 여부를 확인하는 클래스 작성.\n",
    "- 면적을 계산하는 함수"
   ]
  },
  {
   "cell_type": "code",
   "execution_count": null,
   "metadata": {},
   "outputs": [],
   "source": [
    "import math\n",
    "class Circle:\n",
    "    def __init__(self, center, radius):\n",
    "        self.center = center\n",
    "        self.radius = radius\n",
    "    def __repr__(self):\n",
    "        return \"원의 중심은 : \", str(self.center), \", 반지름은 : \", str(self.radius), \", 면적은 : \", str(self.area_calc())\n",
    "    def area_calc(self):\n",
    "        area = math.pi * float(self.radius^2)\n",
    "        return area\n",
    "    def perimeter(self):\n",
    "        peri = 2 * math.pi * self.radius\n",
    "        return peri\n",
    "    def collision(self, other):\n",
    "        if self.center.dist(other.center) < self.radius + other.radius:\n",
    "            print(\"충돌했습니다.\")\n",
    "        else:\n",
    "            print(\"충돌하지 않았습니다.\")"
   ]
  },
  {
   "cell_type": "code",
   "execution_count": null,
   "metadata": {},
   "outputs": [],
   "source": [
    "cir01 = Circle(first, 6)\n",
    "cir02 = Circle(second,8)\n",
    "cir01.area_calc()\n",
    "cir02.area_calc()\n",
    "cir01.perimeter()\n",
    "cir02.perimeter()\n",
    "cir01.collision(cir02)"
   ]
  },
  {
   "cell_type": "markdown",
   "metadata": {},
   "source": [
    "# 연습문제\n",
    "- 두 포인트를 이용하여 rectangle 클래스 작성\n",
    "- 면적을 계산하는 함수\n",
    "- 둘레를 계산하는 함수\n",
    "- 대각선을 계산하는 함수\n",
    "- 출력함수 __repr__ 사용하여 면적, 대각선, 포인트 둘레 출력."
   ]
  },
  {
   "cell_type": "code",
   "execution_count": null,
   "metadata": {},
   "outputs": [],
   "source": [
    "class Rectangle:\n",
    "    def __init__(self, point01, point02):\n",
    "        self.point01 = point01\n",
    "        self.point02 = point02\n",
    "    def area(self):\n",
    "        result = abs((self.point01.x - self.point02.x) * (self.point01.y - self.point02.y))\n",
    "        return result\n",
    "    def perimeter(self):\n",
    "        return abs(self.point01.x - self.point02.x) *2 + abs(self.point01.y - self.point02.y) *2\n",
    "    def distance(self):\n",
    "        return math.sqrt((self.point01.x - self.point02.x)**2 + (self.point01.y - self.point02.y)**2)\n",
    "    def __repr__(self):\n",
    "        print(\"두 점 : (%d, %d), (%d, %d)\" %(self.point01.x, self.point01.y, self.point02.x, self.point02.y))\n",
    "        print(\"면적 : \", self.area())\n",
    "        print(\"둘레 : \", self.perimeter())\n",
    "        print(\"대각선 : \", self.distance())"
   ]
  },
  {
   "cell_type": "code",
   "execution_count": null,
   "metadata": {},
   "outputs": [],
   "source": [
    "rect = Rectangle(first, second)\n",
    "print(rect)"
   ]
  },
  {
   "cell_type": "markdown",
   "metadata": {},
   "source": [
    "# Vector\n",
    "- 문제를 선형으로 풀겠다는 선언.\n",
    "- 크기(거리값)와 방향(같은 방향을 가르키는 유사도) 추천.\n",
    "- 내적 계산"
   ]
  },
  {
   "cell_type": "code",
   "execution_count": null,
   "metadata": {},
   "outputs": [],
   "source": [
    "class Vector:\n",
    "    def __init__(self, x, y):\n",
    "        self.x = x\n",
    "        self.y = y\n",
    "    def __repr__(self):\n",
    "        return(\"좌표는 (%d, %d)\" %(self.x, self.y))\n",
    "    def __add__(self, other):\n",
    "        return Vector(self.x + other.x, self.y + other.y)\n",
    "    def __mul__(self, other):\n",
    "        return Vector(self.x * other.x, self.y * other.y)\n",
    "    def __sub__(self, other):\n",
    "        return Vector(self.x - other.x, self.y - other.y)\n",
    "    def __truediv__(self, other):\n",
    "        return Vector(self.x/other.x, self.y/other.y)\n",
    "\n",
    "f = Vector(100,23)\n",
    "g = Vector(20,27)\n",
    "print(f)\n",
    "print(g)\n",
    "print(f+f)\n",
    "print(f+g)\n",
    "print(f*g)\n",
    "print(f/g)"
   ]
  },
  {
   "cell_type": "markdown",
   "metadata": {},
   "source": [
    "### 위의 문제를 2차원에서 3차원으로 확장하시오"
   ]
  },
  {
   "cell_type": "code",
   "execution_count": null,
   "metadata": {},
   "outputs": [],
   "source": [
    "class Vector:\n",
    "    def __init__(self, x, y, z):\n",
    "        self.x = x\n",
    "        self.y = y\n",
    "        self.z = z\n",
    "    def __repr__(self):\n",
    "        return(\"좌표는 (%d, %d, %d)\" %(self.x, self.y, self.z))\n",
    "    def __add__(self, other):\n",
    "        return Vector(self.x + other.x, self.y + other.y, self.z + other.z)\n",
    "    def __mul__(self, other):\n",
    "        return Vector(self.x * other.x, self.y * other.y, self.z * other.z)\n",
    "    def __sub__(self, other):\n",
    "        return Vector(self.x - other.x, self.y - other.y, self.z - other.z)\n",
    "    def __truediv__(self, other):\n",
    "        return Vector(self.x/other.x, self.y/other.y, self.z / other.z)\n",
    "    \n",
    "    \n",
    "    \n",
    "    def norm(self) :\n",
    "        return math.sqrt(self.x**2 + self.y**2 + self.z**2)\n",
    " \n",
    "    def normalize(self) :\n",
    "        norm = self.norm()\n",
    "        return self.x/norm, self.y/norm, self.z/norm\n",
    "\n",
    "    def dot(self, other) :   # 내적 = cos 사이각 = 유사도\n",
    "        return (self.x*other.x + self.y*other.y + self.z*other.z)\n",
    "\n",
    "    def cos_theta(self, other) :\n",
    "        norm1 = self.norm()\n",
    "        norm2 = other.norm()\n",
    "        dot = self.dot(other)\n",
    "        return dot/(norm1*norm2)\n",
    "    \n",
    "    def theta(self, other) :\n",
    "        cos_theta = self.cos_theta(other)\n",
    "        return math.acos(cos_theta)*(180/math.pi)\n",
    "    \n",
    "\n",
    "\n",
    "\n",
    "f = Vector(10,0,0)\n",
    "g = Vector(0,27,0)\n",
    "print(f)\n",
    "print(f+f)\n",
    "print('f 벡터의 크기 =', f.norm())\n",
    "print('g 벡터의 크기 =', g.norm())\n",
    "print('f 벡터의 정규화 =', f.normalize())\n",
    "print('g 벡터의 정규화 =', g.normalize())\n",
    "print('두 벡터의 내적 =', g.dot(f))   # 내적==0 이면 직교(90도)*****\n",
    "print('f와 g의 사이각 =', f.theta(g))\n",
    "print('f와 g의 코사인사이각 =', f.cos_theta(g))\n"
   ]
  },
  {
   "cell_type": "code",
   "execution_count": null,
   "metadata": {},
   "outputs": [],
   "source": []
  },
  {
   "cell_type": "markdown",
   "metadata": {},
   "source": [
    "# 정적함수"
   ]
  },
  {
   "cell_type": "code",
   "execution_count": null,
   "metadata": {},
   "outputs": [],
   "source": [
    "class StaticTest(): # 정적함수 : 인스턴스하지 않고도 실행이 되는 함수\n",
    "    def spam(x, y):\n",
    "        print('정적함수', x, y)\n",
    "    spam = staticmethod(spam)\n",
    "    \n",
    "    @staticmethod # decorator\n",
    "    def spam1(x, y):\n",
    "        print('정적함수1', x, y)"
   ]
  },
  {
   "cell_type": "code",
   "execution_count": null,
   "metadata": {},
   "outputs": [],
   "source": [
    "StaticTest.spam(1,2)\n",
    "d = StaticTest()\n",
    "d.spam(1,2)\n",
    "StaticTest.spam1(1,2)"
   ]
  },
  {
   "cell_type": "markdown",
   "metadata": {},
   "source": [
    "# Chaining"
   ]
  },
  {
   "cell_type": "code",
   "execution_count": null,
   "metadata": {},
   "outputs": [],
   "source": [
    "class ListMutator(object):\n",
    "    def __init__(self, seq):\n",
    "        self.data = seq\n",
    "    def fool(self, arg1, arg2):\n",
    "        self.data = [x + arg1 for x in self.data]\n",
    "        return self\n",
    "    def fool2(self, arg1, arg2):\n",
    "        self.data = [x*arg1 for x in self.data]\n",
    "        return self"
   ]
  },
  {
   "cell_type": "code",
   "execution_count": null,
   "metadata": {
    "scrolled": true
   },
   "outputs": [],
   "source": [
    "lm = ListMutator([1,2,3,4])\n",
    "lm.fool(2,0).fool2(10,0)\n",
    "print(lm.data)\n",
    "print(ListMutator([1,2,3,4]).fool(2,0).fool2(10,0).data)"
   ]
  },
  {
   "cell_type": "code",
   "execution_count": null,
   "metadata": {},
   "outputs": [],
   "source": []
  },
  {
   "cell_type": "code",
   "execution_count": null,
   "metadata": {},
   "outputs": [],
   "source": [
    "from datetime import date\n",
    "class Person:\n",
    "    def __init__(self, name, age):\n",
    "        self.name = name\n",
    "        self.age = age\n",
    "    @classmethod\n",
    "    def fromBirthYear(cls, name, birthYear):\n",
    "        return cls(name, date.today().year - birthYear)\n",
    "    def display(self):\n",
    "        print(self.name, \"의 나이는 : \", str(self.age))"
   ]
  },
  {
   "cell_type": "code",
   "execution_count": null,
   "metadata": {},
   "outputs": [],
   "source": [
    "person = Person('강감찬', 19)\n",
    "person.display()\n",
    "person1 = Person.fromBirthYear('을지문덕', 1985)\n",
    "person1.display()"
   ]
  },
  {
   "cell_type": "code",
   "execution_count": null,
   "metadata": {},
   "outputs": [],
   "source": [
    "class Guard:\n",
    "    def three_point(self):\n",
    "        print(\"가드는 3점슛 장착\")\n",
    "    def apass(self):\n",
    "        print(\"가드의 핵심은 에이타입 패스\")\n",
    "\n",
    "class Shooter:\n",
    "    def three_point(self):\n",
    "        print(\"3점슛 장착\")\n",
    "    def apass(self):\n",
    "        print(\"에이타입 패스 가능\")\n",
    "        \n",
    "def inhecourt(duck):\n",
    "    duck.three_point()\n",
    "    duck.apass()\n",
    "\n",
    "gu = Guard()\n",
    "jo = Shooter()\n",
    "inhecourt(gu)\n",
    "inhecourt(jo)"
   ]
  },
  {
   "cell_type": "code",
   "execution_count": null,
   "metadata": {},
   "outputs": [],
   "source": [
    "class Student:\n",
    "    studCount = 0\n",
    "    def __init__(self, name, kor):\n",
    "        self.name = name\n",
    "        self.kor = kor\n",
    "        Student.studCount +=1\n",
    "    def __call__(self):\n",
    "        data = [self.name, self.kor]\n",
    "        return data"
   ]
  },
  {
   "cell_type": "code",
   "execution_count": null,
   "metadata": {},
   "outputs": [],
   "source": [
    "student = []\n",
    "name = input(\"이름 : \")\n",
    "kor = input(\"국어점수 : \")\n",
    "stud = Student(name, kor)\n",
    "student.append(stud)\n",
    "print(student[0].name, student[0].kor)"
   ]
  },
  {
   "cell_type": "markdown",
   "metadata": {},
   "source": [
    "# 숙제"
   ]
  },
  {
   "cell_type": "code",
   "execution_count": 1,
   "metadata": {},
   "outputs": [],
   "source": [
    "class Student:\n",
    "    studCount = 0\n",
    "    def __init__(self, name, kor, eng, mat):\n",
    "        self.name = name\n",
    "        self.kor = int(kor)\n",
    "        self.eng = int(eng)\n",
    "        self.mat = int(mat)\n",
    "        self.tot = self.kor + self.eng + self.mat\n",
    "        self.avg = round(self.tot/3, 2)\n",
    "        Student.studCount += 1\n",
    "    def __call__(self):\n",
    "        data = [self.name, self.kor, self.eng, self.mat, self.tot, self.avg]\n",
    "        return data"
   ]
  },
  {
   "cell_type": "code",
   "execution_count": 28,
   "metadata": {},
   "outputs": [],
   "source": [
    "students = []\n",
    "def insert(students):\n",
    "    print(\" \")\n",
    "    name = input(\"이름 입력 : \")\n",
    "    kor = input(\"국어 점수 : \")\n",
    "    eng = input(\"영어 점수 : \")\n",
    "    mat = input(\"수학 점수 : \")\n",
    "    stud = Student(name, kor, eng, mat)\n",
    "    students.append(stud)\n",
    "    print(\" \")\n",
    "    \n",
    "def printList(students):\n",
    "    if students == []:\n",
    "        print(\"\\n\", \"출력할 내용이 없습니다.\", \"\\n\")\n",
    "    else:\n",
    "        print(\"\\n\", \"이름 \\t 국어 \\t 영어 \\t 수학 \\t 총점 \\t 평균\") \n",
    "        for s in students:\n",
    "            print(\"%s \\t %s \\t %s \\t %s \\t %s \\t %s\" %(s.name, s.kor, s.eng, s.mat, s.tot, s.avg), \"\\n\")\n",
    "    \n",
    "def calcAvg(students):\n",
    "    kor_tot = 0; eng_tot = 0; mat_tot = 0\n",
    "    for s in students:\n",
    "        kor_tot += s.kor\n",
    "        eng_tot += s.eng\n",
    "        mat_tot += s.mat\n",
    "        kor_avg = round(kor_tot / len(students), 2)\n",
    "        eng_avg = round(eng_tot / len(students), 2)\n",
    "        mat_avg = round(mat_tot / len(students), 2)\n",
    "        print(\"\\n\", \"총 학생 수 : %s 명\" %len(students))\n",
    "        print(\"국어평균 \\t 영어평균 \\t 수학평균\")\n",
    "        print(\"%s \\t\\t %s \\t\\t %s\" %(kor_avg, eng_avg, mat_avg), \"\\n\")\n",
    "        \n",
    "def reset(students):\n",
    "    if len(students) == 1:\n",
    "        del students[0]\n",
    "        print(\"\\n\",\"초기화 완료\",\"\\n\")\n",
    "    else:\n",
    "        for i in range(len(students)-1):\n",
    "            del students[0]\n",
    "            del students[i]\n",
    "        print(\"\\n\",\"초기화 완료\",\"\\n\")"
   ]
  },
  {
   "cell_type": "code",
   "execution_count": 33,
   "metadata": {},
   "outputs": [],
   "source": [
    "def start():\n",
    "    while 1:\n",
    "        choice = input(\"[ 1: 입력 \\t 2: 출력 \\t 3: 계산 \\t 4: 초기화 \\t 9: 종료 ] => \")\n",
    "        if choice == \"1\":\n",
    "            insert(students)\n",
    "        elif choice == \"2\":\n",
    "            printList(students)\n",
    "        elif choice ==\"3\":\n",
    "            calcAvg(students)\n",
    "        elif choice ==\"4\":\n",
    "            reset(students)\n",
    "        elif choice == \"9\":\n",
    "            print(\"\\n\",\"프로그램을 종료합니다.\",\"\\n\")\n",
    "            break"
   ]
  },
  {
   "cell_type": "code",
   "execution_count": 30,
   "metadata": {},
   "outputs": [
    {
     "name": "stdout",
     "output_type": "stream",
     "text": [
      "[ 1: 입력 \t 2: 출력 \t 3: 계산 \t 4: 초기화 \t 5: 종료 ] =>2\n",
      "\n",
      " 출력할 내용이 없습니다. \n",
      "\n",
      "[ 1: 입력 \t 2: 출력 \t 3: 계산 \t 4: 초기화 \t 5: 종료 ] =>5\n",
      "\n",
      " 프로그램을 종료합니다. \n",
      "\n"
     ]
    }
   ],
   "source": [
    "start()"
   ]
  },
  {
   "cell_type": "markdown",
   "metadata": {},
   "source": [
    "# 위를 참고하여 학생에 관한 클래스 작성\n",
    "- 초기화\n",
    "- 학생 점수를 합계하는 함수\n",
    "- 입력함수\n",
    "- 과목별 합계를 내는 함수(국, 영, 수)\n",
    "- 출력함수\n",
    "- __repr__ 오버라이딩\n",
    "- 메뉴화"
   ]
  },
  {
   "cell_type": "code",
   "execution_count": 2,
   "metadata": {},
   "outputs": [],
   "source": [
    "class Management(object):\n",
    "    def __init__(self):\n",
    "        self.studnet = []\n",
    "    def SetStudent(self, num):\n",
    "        for a in range(int(num)):\n",
    "            name = input(\"이름을 입력하시오 : \")\n",
    "            grade = input(\"학년을 입력하시오 : \")\n",
    "            ban = input(\"반을 입력하시오 : \")\n",
    "            kor = input(\"국어점수 : \")\n",
    "            eng = input(\"영어점수 : \")\n",
    "            mat = input(\"수학점수 : \")\n",
    "            one_student = Student(name, grade, ban, kor, eng, mat)\n",
    "            self.student.append(one_student)\n",
    "    def GetStduent(self):\n",
    "        for a in range(len(self.studnet)):\n",
    "            print(self.student[a])\n",
    "    def Select(self):\n",
    "        name = input(\"찾을 이름을 입력하시오 : \")\n",
    "        for one in self.student:\n",
    "            if one.name == name:\n",
    "                print(one)\n",
    "                break\n",
    "    def ChangeStudent(self):\n",
    "        name = input(\"이름을 입력하시오 : \")\n",
    "        studentIndex = False\n",
    "        for one in range(len(self.student)):\n",
    "            if self.student[one].name == name:\n",
    "                self = self.student[one]\n",
    "                studentIndex = True\n",
    "                break\n",
    "            else:\n",
    "                print(\"이름이 없습니다.\")\n",
    "                break\n",
    "        if studentIndex:\n",
    "            self.SetStudent(1)\n",
    "    def RemoveStudent(self):\n",
    "        name = input(\"이름을 입력하시오 : \")\n",
    "        for one in range(len(self.student)):\n",
    "            if self.student[one].name == name:\n",
    "                del self.student[one]\n",
    "    def SavePickle(self, saveDir='./', SaveFileName='sungjuk.txt'):\n",
    "        f = open(saveDir + saveFileName, 'wb')\n",
    "        data = []\n",
    "        for a in self.student(a()):\n",
    "            data.append(a())\n",
    "        pickle.dump(data, f)\n",
    "        f.close\n",
    "    def Statistics(self):\n",
    "        average = [0,0,0]\n",
    "        variance = [0,0,0]\n",
    "        deviation = [0,0,0]\n",
    "        korList = []\n",
    "        engList = []\n",
    "        matList = []\n",
    "        for one in self.student:\n",
    "            average[0] += one.kor\n",
    "            average[1] += one.eng\n",
    "            average[2] += one.mat\n",
    "            korList.append(one.kor)\n",
    "            engList.append(one.eng)\n",
    "            matList.append(one.mat)\n",
    "        average[0] = round((average[0])/len(self.student), 2)\n",
    "        average[1] = round((average[1])/len(self.student), 2)\n",
    "        average[2] = round((average[2])/len(self.student), 2)\n",
    "        allList = [korList, engList, matList]\n",
    "        for one in range(leng(average)):\n",
    "            vsum = 0\n",
    "            for x in allList[one]:\n",
    "                vsum = vsum + (c-average[one])**2\n",
    "            variacne[one] = round(vsum/len(allList[one]), 2)\n",
    "            deviation[one] = round(math.sqrt(variance[one]) ,2)\n",
    "        print(\"평균 : %s\\t 표준편차 : %s\\t 분산 : %s\" %(average, variance, deviation))"
   ]
  }
 ],
 "metadata": {
  "kernelspec": {
   "display_name": "Python 3",
   "language": "python",
   "name": "python3"
  },
  "language_info": {
   "codemirror_mode": {
    "name": "ipython",
    "version": 3
   },
   "file_extension": ".py",
   "mimetype": "text/x-python",
   "name": "python",
   "nbconvert_exporter": "python",
   "pygments_lexer": "ipython3",
   "version": "3.8.3"
  }
 },
 "nbformat": 4,
 "nbformat_minor": 4
}
