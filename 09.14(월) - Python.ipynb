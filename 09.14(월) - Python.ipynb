{
 "cells": [
  {
   "cell_type": "markdown",
   "metadata": {},
   "source": [
    "# Numpy\n",
    "\n",
    "math + 선형대수 패키지\n",
    "- 배열\n",
    "- 다항식(Polinomial)\n",
    "- math\n",
    "- 선형대수 (linalg)\n",
    "- FFT (Fast Fourier Transforamtion)\n",
    "- Random\n",
    "- stats"
   ]
  },
  {
   "cell_type": "markdown",
   "metadata": {},
   "source": [
    "### ndarray\n",
    "\n",
    "행렬의 종류\n",
    "- 단위행렬\n",
    "- 대각행력 (행렬 대각화 : 해를 풀었다.)\n",
    "- 정방행렬 : n x n 행렬 (고유값 분해 - 고유치(eigen value)와 고유벡터(eigen vector). 내적을 내면 0인 행렬.\n",
    "    - 공분산행렬\n",
    "    - 상관계수행렬(PCA)\n",
    "    - 거리행렬(MDS)\n",
    "- 대칭행렬 (고유값 분해 - 고유치(eigen value)와 고유벡터(eigen ector)\n",
    "- 영행렬"
   ]
  },
  {
   "cell_type": "code",
   "execution_count": 6,
   "metadata": {},
   "outputs": [
    {
     "data": {
      "text/plain": [
       "<function numpy.arange>"
      ]
     },
     "execution_count": 6,
     "metadata": {},
     "output_type": "execute_result"
    }
   ],
   "source": [
    "import numpy as np\n",
    "\n",
    "np.zeros\n",
    "np.ones\n",
    "np.full\n",
    "np.empty\n",
    "np.zeros_like\n",
    "np.linspace\n",
    "np.arange"
   ]
  },
  {
   "cell_type": "code",
   "execution_count": 11,
   "metadata": {},
   "outputs": [
    {
     "name": "stdout",
     "output_type": "stream",
     "text": [
      "[[0. 0. 0. 0.]\n",
      " [0. 0. 0. 0.]\n",
      " [0. 0. 0. 0.]]\n",
      "[[[1 1 1 1]\n",
      "  [1 1 1 1]\n",
      "  [1 1 1 1]]\n",
      "\n",
      " [[1 1 1 1]\n",
      "  [1 1 1 1]\n",
      "  [1 1 1 1]]]\n",
      "[[7 7]\n",
      " [7 7]]\n",
      "[[1. 0. 0. 0.]\n",
      " [0. 1. 0. 0.]\n",
      " [0. 0. 1. 0.]\n",
      " [0. 0. 0. 1.]]\n",
      "[[0.00e+000 0.00e+000]\n",
      " [0.00e+000 0.00e+000]\n",
      " [0.00e+000 5.85e-321]\n",
      " [0.00e+000 0.00e+000]]\n",
      "Matrix b :  [[1. 0.]\n",
      " [0. 1.]]\n"
     ]
    }
   ],
   "source": [
    "print(np.zeros((3,4)))\n",
    "print(np.ones((2,3,4), dtype=np.int16))\n",
    "print(np.full((2,2), 7))\n",
    "print(np.eye(4))\n",
    "print(np.empty((4,2)))\n",
    "b = np.identity(2, dtype = float)\n",
    "print(\"Matrix b : \", b)"
   ]
  },
  {
   "cell_type": "code",
   "execution_count": 13,
   "metadata": {},
   "outputs": [
    {
     "data": {
      "image/png": "[encoded data removed]",
      "text/plain": [
       "<Figure size 432x288 with 1 Axes>"
      ]
     },
     "metadata": {
      "needs_background": "light"
     },
     "output_type": "display_data"
    }
   ],
   "source": [
    "import matplotlib.pyplot as plt\n",
    "\n",
    "x1 = [1,2,3]\n",
    "y1 = [2,4,1]\n",
    " \n",
    "plt.plot(x1, y1, label = \"line 1\")\n",
    " \n",
    "\n",
    "x2 = [1,2,3]\n",
    "y2 = [4,1,3]\n",
    "\n",
    "plt.plot(x2, y2, label = \"line 2\")\n",
    " \n",
    "plt.xlabel('x - axis')\n",
    "plt.ylabel('y - axis')\n",
    "plt.title('두개의 라인출력 ')\n",
    "plt.legend()\n",
    "plt.show()  "
   ]
  },
  {
   "cell_type": "code",
   "execution_count": 15,
   "metadata": {},
   "outputs": [
    {
     "name": "stdout",
     "output_type": "stream",
     "text": [
      "[[[ 0  1  2  3]\n",
      "  [ 4  5  6  7]\n",
      "  [ 8  9 10 11]]\n",
      "\n",
      " [[12 13 14 15]\n",
      "  [16 17 18 19]\n",
      "  [20 21 22 23]]]\n",
      "[ 0  1  2  3  4  5  6  7  8  9 10 11 12 13 14 15 16 17 18 19 20 21 22 23]\n",
      "차원확대\n",
      "[[[[ 0  1  2  3]\n",
      "   [ 4  5  6  7]\n",
      "   [ 8  9 10 11]]\n",
      "\n",
      "  [[12 13 14 15]\n",
      "   [16 17 18 19]\n",
      "   [20 21 22 23]]]]\n",
      "차원축소\n",
      "[[ 0  1  2  3]\n",
      " [ 4  5  6  7]\n",
      " [ 8  9 10 11]\n",
      " [12 13 14 15]\n",
      " [16 17 18 19]\n",
      " [20 21 22 23]]\n"
     ]
    }
   ],
   "source": [
    "e = np.arange(24).reshape(2,3,4) # 3차원\n",
    "print(e)\n",
    "print(e.flatten())  # 1차원으로 변환하여 출력\n",
    "\n",
    "e = np.arange(24).reshape(1,2,3,4)\n",
    "print(\"차원확대\")\n",
    "print(e)\n",
    "\n",
    "print('차원축소')\n",
    "e = e.reshape(-1,4)\n",
    "print(e)"
   ]
  },
  {
   "cell_type": "code",
   "execution_count": 17,
   "metadata": {},
   "outputs": [
    {
     "name": "stdout",
     "output_type": "stream",
     "text": [
      "1.18.5\n",
      "type : <class 'numpy.ndarray'>\n",
      "shape: (3,), dimension: 1, dtype:int32\n",
      "배열 데이터:\n",
      " [1 2 3]\n"
     ]
    }
   ],
   "source": [
    "import matplotlib\n",
    "print(np.__version__)\n",
    "\n",
    "def pprint(arr):\n",
    "    print(\"type : {}\".format(type(arr)))\n",
    "    print(f\"shape: {arr.shape}, dimension: { arr.ndim}, dtype:{ arr.dtype}\")\n",
    "    print(\"배열 데이터:\\n\", arr)\n",
    "arr = [1, 2, 3]\n",
    "a = np.array([1, 2, 3])\n",
    "pprint(a) "
   ]
  },
  {
   "cell_type": "markdown",
   "metadata": {},
   "source": [
    "### 인덱싱"
   ]
  },
  {
   "cell_type": "code",
   "execution_count": 19,
   "metadata": {},
   "outputs": [
    {
     "name": "stdout",
     "output_type": "stream",
     "text": [
      "[1, 5, -1]\n",
      "[ 0 10 20 30 40 50 60 70 80 90]\n",
      "[10 50 90]\n"
     ]
    }
   ],
   "source": [
    "a = np.arange(0, 100, 10)\n",
    "\n",
    "indices = [1,5,-1]\n",
    "print(indices)\n",
    "b = a[indices]\n",
    "print(a)\n",
    "print(b)"
   ]
  },
  {
   "cell_type": "code",
   "execution_count": 20,
   "metadata": {},
   "outputs": [
    {
     "name": "stdout",
     "output_type": "stream",
     "text": [
      "[[11 12 13 14 15]\n",
      " [16 17 18 19 20]\n",
      " [21 22 23 24 25]\n",
      " [26 27 28 29 30]\n",
      " [31 32 33 34 35]]\n",
      "<class 'numpy.ndarray'>\n",
      "int32\n",
      "25\n",
      "(5, 5)\n",
      "4\n",
      "2\n",
      "100\n",
      "(20, 4)\n"
     ]
    }
   ],
   "source": [
    "a = np.array([[11, 12, 13, 14, 15],\n",
    "              [16, 17, 18, 19, 20],\n",
    "              [21, 22, 23, 24, 25],\n",
    "              [26, 27, 28 ,29, 30],\n",
    "              [31, 32, 33, 34, 35]])\n",
    "a = np.arange(11,36) \n",
    "a.shape= (5,5)\n",
    "print(a)\n",
    "print(type(a))\n",
    "print(a.dtype)\n",
    "print(a.size)\n",
    "print(a.shape)\n",
    "print(a.itemsize)\n",
    "print(a.ndim)\n",
    "print(a.nbytes)\n",
    "print(a.strides)  "
   ]
  },
  {
   "cell_type": "code",
   "execution_count": 22,
   "metadata": {},
   "outputs": [
    {
     "name": "stdout",
     "output_type": "stream",
     "text": [
      "<class 'numpy.ndarray'>\n",
      "[0 1 2 3 4 5 6 7 8 9]\n",
      "5\n",
      "[5 6 7]\n",
      "[ 1  2  3  4 12]\n"
     ]
    }
   ],
   "source": [
    "arr = np.arange(10)\n",
    "print(type(arr))\n",
    "print(arr)\n",
    "print(arr[5])\n",
    "print(arr[5:8])\n",
    "arr[5:8] = 12\n",
    "print(arr[1:6])"
   ]
  },
  {
   "cell_type": "code",
   "execution_count": 24,
   "metadata": {},
   "outputs": [
    {
     "name": "stdout",
     "output_type": "stream",
     "text": [
      "[[1 2 3]\n",
      " [4 5 6]\n",
      " [7 8 9]]\n",
      "[1 2 3]\n",
      "3\n",
      "3\n",
      "[[1 2 3]\n",
      " [4 5 6]]\n",
      "[[2 3]\n",
      " [5 6]]\n",
      "[4 5]\n",
      "[7]\n"
     ]
    }
   ],
   "source": [
    "arr2d = np.array([[1,2,3], [4,5,6], [7,8,9]])\n",
    "print(arr2d)\n",
    "print(arr2d[0])\n",
    "print(arr2d[0][2])\n",
    "print(arr2d[0,2])\n",
    "print(arr2d[:2])\n",
    "print(arr2d[:2,1:])\n",
    "print(arr2d[1,:2])\n",
    "print(arr2d[2, :1])\n",
    "arr2d[:2,:1]=0\n",
    "arr2d[:2,:1]=0 "
   ]
  },
  {
   "cell_type": "code",
   "execution_count": 29,
   "metadata": {},
   "outputs": [
    {
     "name": "stdout",
     "output_type": "stream",
     "text": [
      "[[[ 1  2  3]\n",
      "  [ 4  5  6]]\n",
      "\n",
      " [[ 7  8  9]\n",
      "  [10 11 12]]]\n",
      "첫면은 : \n",
      " [[1 2 3]\n",
      " [4 5 6]]\n",
      "첫면 첫행은 :  [1 2 3]\n",
      "첫면 첫행 첫요소는 :  1\n"
     ]
    }
   ],
   "source": [
    "arr3d = np.array([ [[1,2,3], [4,5,6]], [[7,8,9], [10,11,12]] ])\n",
    "\n",
    "print(arr3d)\n",
    "print('첫면은 : \\n', arr3d[0])\n",
    "print('첫면 첫행은 : ', arr3d[0][0])\n",
    "print('첫면 첫행 첫요소는 : ', arr3d[0][0][0])"
   ]
  },
  {
   "cell_type": "code",
   "execution_count": 40,
   "metadata": {},
   "outputs": [
    {
     "name": "stdout",
     "output_type": "stream",
     "text": [
      "[[ 0  1  2  3]\n",
      " [ 4  5  6  7]\n",
      " [ 8  9 10 11]\n",
      " [12 13 14 15]\n",
      " [16 17 18 19]\n",
      " [20 21 22 23]\n",
      " [24 25 26 27]\n",
      " [28 29 30 31]] \n",
      "\n",
      "[ 4 23 29 10] \n",
      "\n",
      "파이프\n",
      "[[ 4  5  6  7]\n",
      " [ 8  9 10 11]\n",
      " [20 21 22 23]] \n",
      "\n",
      "팬시\n",
      "[[ 4  5  6  7]\n",
      " [ 8  9 10 11]\n",
      " [20 21 22 23]\n",
      " [28 29 30 31]]\n"
     ]
    }
   ],
   "source": [
    "arr = np.arange(32).reshape((8,4))\n",
    "print(arr, '\\n')\n",
    "print(arr[[1,5,7,2], [0,3,1,2]], '\\n')\n",
    "print('파이프')\n",
    "print(arr[[1,5,7,2]][[0,3,1]], '\\n')\n",
    "print('팬시')\n",
    "print(arr[[1,2,5,7]][:, [0,1,2,3]])"
   ]
  },
  {
   "cell_type": "code",
   "execution_count": 59,
   "metadata": {
    "scrolled": true
   },
   "outputs": [
    {
     "name": "stdout",
     "output_type": "stream",
     "text": [
      "[[ 0  1  2  3  4  5]\n",
      " [10 11 12 13 14 15]\n",
      " [20 21 22 23 24 25]\n",
      " [30 31 32 33 34 35]\n",
      " [40 41 42 43 44 45]\n",
      " [50 51 52 53 54 55]] \n",
      "\n",
      "Orange \n",
      " [ 1 12 23 34 45] \n",
      "\n",
      "Red \n",
      " [ 2 22 52] \n",
      "\n",
      "Blue \n",
      " [[30 32 35]\n",
      " [40 42 45]\n",
      " [50 52 55]]\n"
     ]
    }
   ],
   "source": [
    "arr = []\n",
    "for i in range(6):\n",
    "    ad = []\n",
    "    for j in range(6):\n",
    "        ad.append( i*10 + j)\n",
    "    arr.append(ad)\n",
    "\n",
    "arr = np.array(arr)\n",
    "print(arr, '\\n')\n",
    "\n",
    "print('Orange \\n', arr[[0,1,2,3,4], [1,2,3,4,5]], '\\n')\n",
    "print('Red \\n', arr[[0,2,5], 2], '\\n')\n",
    "print('Blue \\n', arr[[3,4,5]][:, [0,2,5]])"
   ]
  },
  {
   "cell_type": "markdown",
   "metadata": {},
   "source": [
    "### Tile(A, reps)\n",
    "반복배치에 사용\n",
    "- A를 reps만큼 반복해서 출력."
   ]
  },
  {
   "cell_type": "code",
   "execution_count": 78,
   "metadata": {},
   "outputs": [
    {
     "name": "stdout",
     "output_type": "stream",
     "text": [
      "v1 :  [1 0 1 1 0 1]\n",
      "v2 : \n",
      " [[1 0 1]\n",
      " [1 0 1]\n",
      " [1 0 1]\n",
      " [1 0 1]]\n",
      "v3 : \n",
      " [[1 0 1 1 0 1]\n",
      " [1 0 1 1 0 1]\n",
      " [1 0 1 1 0 1]\n",
      " [1 0 1 1 0 1]]\n",
      "v4 : \n",
      " [[[1 0 1 1 0 1]]\n",
      "\n",
      " [[1 0 1 1 0 1]]\n",
      "\n",
      " [[1 0 1 1 0 1]]\n",
      "\n",
      " [[1 0 1 1 0 1]]]\n"
     ]
    }
   ],
   "source": [
    "x = np.arange(1, 13).reshape(4,3)\n",
    "\n",
    "v = np.array([1,0,1])\n",
    "v1 = np.tile(v, 2)\n",
    "v2 = np.tile(v, (4,1))\n",
    "v3 = np.tile(v, (4,2))\n",
    "v4 = np.tile(v, (4,1,2))\n",
    "\n",
    "print('v1 : ', v1)\n",
    "print('v2 : \\n', v2)\n",
    "print('v3 : \\n', v3)\n",
    "print('v4 : \\n', v4)\n",
    "\n",
    "# y = x + vv\n",
    "# print(y)"
   ]
  },
  {
   "cell_type": "markdown",
   "metadata": {},
   "source": [
    "### Transpose()\n",
    "행렬의 행과 열을 전환하는데 사용."
   ]
  },
  {
   "cell_type": "code",
   "execution_count": 79,
   "metadata": {},
   "outputs": [
    {
     "name": "stdout",
     "output_type": "stream",
     "text": [
      "x : \n",
      " [[0 1]\n",
      " [2 3]\n",
      " [4 5]]\n",
      "y : \n",
      " [[0 2 4]\n",
      " [1 3 5]]\n"
     ]
    }
   ],
   "source": [
    "x = np.arange(6).reshape(3,2)\n",
    "y = np.transpose(x)\n",
    "print('x : \\n', x)\n",
    "print('y : \\n', y)"
   ]
  },
  {
   "cell_type": "markdown",
   "metadata": {},
   "source": [
    "### numpy 논리연산자"
   ]
  },
  {
   "cell_type": "code",
   "execution_count": 86,
   "metadata": {},
   "outputs": [
    {
     "name": "stdout",
     "output_type": "stream",
     "text": [
      "[ True False False False False False]\n",
      "[[-0.7775954  -0.14848985  1.31660026 -0.78814835]]\n",
      "[[ 1.31660026 -0.78814835]]\n",
      "[-0.78814835]\n",
      "[False  True  True  True  True  True]\n",
      "[False  True  True  True  True  True]\n",
      "[ True False  True False False False]\n",
      "[[-0.7775954  -0.14848985  1.31660026 -0.78814835]\n",
      " [ 0.21502009 -0.64311549  0.6903036  -0.94451309]]\n"
     ]
    }
   ],
   "source": [
    "names = np.array(['Seoul', 'Daejun', 'Chungju', 'seoul', 'daejun', 'Daejun'])\n",
    "data = np.random.randn(6,4)\n",
    "\n",
    "print(names == 'Seoul')\n",
    "\n",
    "print(data[names == 'Seoul'])\n",
    "print(data[names == 'Seoul', 2:])\n",
    "print(data[names == 'Seoul', 3])\n",
    "\n",
    "print(names !='Seoul')\n",
    "print(~(names =='Seoul'))\n",
    "\n",
    "mask = (names == 'Seoul') | (names == 'Chungju')\n",
    "print(mask)\n",
    "print(data[mask])"
   ]
  },
  {
   "cell_type": "code",
   "execution_count": 87,
   "metadata": {},
   "outputs": [
    {
     "name": "stdout",
     "output_type": "stream",
     "text": [
      "<zip object at 0x0000020C75F41C40>\n",
      "[(1.1, 2.1, True), (1.2, 2.2, False), (1.3, 2.3, True), (1.4, 2.4, True), (1.5, 2.5, False)]\n",
      "result =  [1.1, 2.2, 1.3, 1.4, 2.5]\n",
      "[1.1 2.2 1.3 1.4 2.5]\n",
      "[[-0.35145049  0.07676989  0.41668613  1.60980776]\n",
      " [-0.11505591 -0.39526409 -0.46089829 -0.2017303 ]\n",
      " [ 0.00721169 -1.29731139  1.98145975 -0.03312454]\n",
      " [ 0.50307901  0.28361289 -0.2423437  -0.26511483]]\n",
      "[[-2  2  2  2]\n",
      " [-2 -2 -2 -2]\n",
      " [ 2 -2  2 -2]\n",
      " [ 2  2 -2 -2]]\n",
      "[[-0.35145049  2.          2.          2.        ]\n",
      " [-0.11505591 -0.39526409 -0.46089829 -0.2017303 ]\n",
      " [ 2.         -1.29731139  2.         -0.03312454]\n",
      " [ 2.          2.         -0.2423437  -0.26511483]]\n"
     ]
    }
   ],
   "source": [
    "xarr = np.array([1.1, 1.2, 1.3, 1.4, 1.5])\n",
    "yarr = np.array([2.1, 2.2, 2.3, 2.4, 2.5])\n",
    "cond = np.array([True, False, True, True, False])\n",
    "\n",
    "print(zip(xarr, yarr, cond))\n",
    "print(list(zip(xarr, yarr, cond)))\n",
    "result = [(x if c else y) for x,y,c in zip(xarr, yarr, cond)]\n",
    "print(\"result = \",result)\n",
    "\n",
    "\n",
    "result = np.where(cond, xarr, yarr)\n",
    "print(result)\n",
    "\n",
    "arr=np.random.randn(4,4)\n",
    "print(arr)\n",
    "print(np.where(arr>0, 2, -2))\n",
    "print(np.where(arr>0, 2, arr)) "
   ]
  },
  {
   "cell_type": "code",
   "execution_count": 90,
   "metadata": {},
   "outputs": [
    {
     "name": "stdout",
     "output_type": "stream",
     "text": [
      "1x4 [0 1 2 3]\n",
      "1x2 [0 1]\n",
      "4x2\n",
      " [[0 1]\n",
      " [2 3]\n",
      " [4 5]\n",
      " [6 7]] \n",
      "\n",
      "[[[0 1]\n",
      "  [2 3]\n",
      "  [4 5]\n",
      "  [6 7]]\n",
      "\n",
      " [[0 1]\n",
      "  [2 3]\n",
      "  [4 5]\n",
      "  [6 7]]\n",
      "\n",
      " [[0 1]\n",
      "  [2 3]\n",
      "  [4 5]\n",
      "  [6 7]]]\n",
      "[[[ 0  2]\n",
      "  [ 4  6]\n",
      "  [ 8 10]\n",
      "  [12 14]]\n",
      "\n",
      " [[ 0  2]\n",
      "  [ 4  6]\n",
      "  [ 8 10]\n",
      "  [12 14]]\n",
      "\n",
      " [[ 0  2]\n",
      "  [ 4  6]\n",
      "  [ 8 10]\n",
      "  [12 14]]]\n",
      "[[[ 0  2]\n",
      "  [ 4  6]\n",
      "  [ 8 10]\n",
      "  [12 14]]\n",
      "\n",
      " [[ 0  2]\n",
      "  [ 4  6]\n",
      "  [ 8 10]\n",
      "  [12 14]]\n",
      "\n",
      " [[ 0  2]\n",
      "  [ 4  6]\n",
      "  [ 8 10]\n",
      "  [12 14]]]\n",
      "[[[0 2]\n",
      "  [2 4]\n",
      "  [4 6]\n",
      "  [6 8]]\n",
      "\n",
      " [[0 2]\n",
      "  [2 4]\n",
      "  [4 6]\n",
      "  [6 8]]\n",
      "\n",
      " [[0 2]\n",
      "  [2 4]\n",
      "  [4 6]\n",
      "  [6 8]]]\n",
      "말단을 맞추려면 \n",
      " [[[0 2]\n",
      "  [2 4]\n",
      "  [4 6]\n",
      "  [6 8]]\n",
      "\n",
      " [[0 2]\n",
      "  [2 4]\n",
      "  [4 6]\n",
      "  [6 8]]\n",
      "\n",
      " [[0 2]\n",
      "  [2 4]\n",
      "  [4 6]\n",
      "  [6 8]]]\n"
     ]
    },
    {
     "ename": "ValueError",
     "evalue": "operands could not be broadcast together with shapes (3,4,2) (4,) ",
     "output_type": "error",
     "traceback": [
      "\u001b[1;31m---------------------------------------------------------------------------\u001b[0m",
      "\u001b[1;31mValueError\u001b[0m                                Traceback (most recent call last)",
      "\u001b[1;32m<ipython-input-90-c1cf48113f80>\u001b[0m in \u001b[0;36m<module>\u001b[1;34m\u001b[0m\n\u001b[0;32m     13\u001b[0m \u001b[1;33m\u001b[0m\u001b[0m\n\u001b[0;32m     14\u001b[0m \u001b[0mprint\u001b[0m\u001b[1;33m(\u001b[0m\u001b[1;34m'말단을 맞추려면 \\n'\u001b[0m\u001b[1;33m,\u001b[0m \u001b[0marr3d\u001b[0m \u001b[1;33m+\u001b[0m \u001b[0marr2\u001b[0m\u001b[1;33m)\u001b[0m\u001b[1;33m\u001b[0m\u001b[1;33m\u001b[0m\u001b[0m\n\u001b[1;32m---> 15\u001b[1;33m \u001b[0mprint\u001b[0m\u001b[1;33m(\u001b[0m\u001b[0marr3d\u001b[0m \u001b[1;33m+\u001b[0m \u001b[0marr1\u001b[0m\u001b[1;33m)\u001b[0m\u001b[1;33m\u001b[0m\u001b[1;33m\u001b[0m\u001b[0m\n\u001b[0m",
      "\u001b[1;31mValueError\u001b[0m: operands could not be broadcast together with shapes (3,4,2) (4,) "
     ]
    }
   ],
   "source": [
    "arr1 = np.arange(4)\n",
    "arr2 = np.arange(2)\n",
    "arr3 = np.arange(8).reshape(4,2)\n",
    "print('1x4', arr1)\n",
    "print('1x2', arr2)\n",
    "print('4x2\\n', arr3, '\\n')\n",
    "\n",
    "arr3d = np.array([arr3, arr3, arr3])\n",
    "print(arr3d)\n",
    "print(arr3d +arr3d)\n",
    "print(arr3d + arr3)\n",
    "print(arr3d + arr2)\n",
    "\n",
    "print('말단을 맞추려면 \\n', arr3d + arr2)"
   ]
  },
  {
   "cell_type": "code",
   "execution_count": 92,
   "metadata": {},
   "outputs": [
    {
     "name": "stdout",
     "output_type": "stream",
     "text": [
      "[5 6 7 8] [5 6 7 8] [5 6 7 8]\n",
      "[100   6   7   8] [100   6   7   8] [5 6 7 8]\n"
     ]
    }
   ],
   "source": [
    "a1 = np.array([[5,6], [7,8]])\n",
    "ra = a1.ravel()\n",
    "re = a1.reshape(-1)\n",
    "fl = a1.flatten()\n",
    "\n",
    "print(ra, re, fl)\n",
    "a1[0][0] = 100\n",
    "print(ra, re, fl)"
   ]
  },
  {
   "cell_type": "code",
   "execution_count": 96,
   "metadata": {},
   "outputs": [
    {
     "name": "stdout",
     "output_type": "stream",
     "text": [
      "2\n",
      "1\n",
      "120\n",
      "4 \n",
      "\n",
      "sum([1,2,3]) :  6\n",
      "abs(-11) :  11\n",
      "pow(2,10) :  1024\n",
      "math.sqrt(2) :  1.4142135623730951\n",
      "math.log(math.e) :  1.0\n"
     ]
    }
   ],
   "source": [
    "from numpy import math\n",
    "print(math.ceil(1.001))\n",
    "print(math.floor(1.001))\n",
    "print(math.factorial(5))\n",
    "print(max(1,2,3,4), '\\n')\n",
    "\n",
    "print('sum([1,2,3]) : ', sum([1,2,3]))\n",
    "print('abs(-11) : ', abs(-11))\n",
    "print('pow(2,10) : ', pow(2,10))\n",
    "print('math.sqrt(2) : ', math.sqrt(2))\n",
    "print('math.log(math.e) : ', math.log(math.e))"
   ]
  },
  {
   "cell_type": "code",
   "execution_count": 97,
   "metadata": {},
   "outputs": [
    {
     "data": {
      "image/png": "[encoded data removed]",
      "text/plain": [
       "<Figure size 864x576 with 1 Axes>"
      ]
     },
     "metadata": {
      "needs_background": "light"
     },
     "output_type": "display_data"
    }
   ],
   "source": [
    "%matplotlib inline\n",
    "\n",
    "t = np.arange(0, 10, 0.01)\n",
    "y = 3*t + 5\n",
    "\n",
    "#노이즈 섞기\n",
    "y_noise = y + np.random.randn(len(y))\n",
    "\n",
    "plt.figure(figsize=(12,8))\n",
    "plt.plot(t,y_noise)\n",
    "plt.show()"
   ]
  },
  {
   "cell_type": "code",
   "execution_count": null,
   "metadata": {},
   "outputs": [],
   "source": [
    "# R의 선형회귀 부분\n",
    "fp1 = np.polyfit(t, y_noise, 1)\n",
    "\n",
    "f1 = np.poly1d(fp1)\n",
    "\n",
    "plt.figure(figsize=(12,8))\n",
    "plt.plot(t, y_noise, label = 'noise', color = 'y')\n",
    "plt.plot(t, y, ls='dashed', lw=3, color = 'b', label='original')\n",
    "plt.plot(t, f1(t), lw = 2, color='r', label='polyfit')\n",
    "plt.grid()\n",
    "plt.legend()\n",
    "plt.show()"
   ]
  },
  {
   "cell_type": "markdown",
   "metadata": {},
   "source": [
    "### 삼각함수"
   ]
  },
  {
   "cell_type": "code",
   "execution_count": 99,
   "metadata": {},
   "outputs": [
    {
     "name": "stdout",
     "output_type": "stream",
     "text": [
      "degrees(3) :  171.88733853924697\n",
      "np.radians(30) :  0.5235987755982988\n",
      "np.sin(np.radians(30)) :  0.49999999999999994\n",
      "np.degrees(np.sin(np.radians(30))) :  28.647889756541158\n",
      "np.sin(np.pi) :  1.2246467991473532e-16\n"
     ]
    }
   ],
   "source": [
    "print('degrees(3) : ', np.degrees(3))\n",
    "print('np.radians(30) : ', np.radians(30))\n",
    "print('np.sin(np.radians(30)) : ', np.sin(np.radians(30)))\n",
    "print('np.degrees(np.sin(np.radians(30))) : ', np.degrees(np.sin(np.radians(30))))\n",
    "print('np.sin(np.pi) : ', np.sin(np.pi))"
   ]
  },
  {
   "cell_type": "code",
   "execution_count": 100,
   "metadata": {},
   "outputs": [
    {
     "name": "stdout",
     "output_type": "stream",
     "text": [
      "밑변 :  5.656854249492381 \n",
      "높이 :  5.656854249492381\n"
     ]
    }
   ],
   "source": [
    "##### 대각선이 8이고 그 사이각이 45도라면 밑변의 길이와 높이를 구하시오.\n",
    "theta = math.cos(math.pi / 4)\n",
    "x = 8*theta\n",
    "theta2 = math.sin(math.pi / 4)\n",
    "y = 8*theta2\n",
    "print('밑변 : ', x, '\\n높이 : ', y)"
   ]
  },
  {
   "cell_type": "code",
   "execution_count": 101,
   "metadata": {},
   "outputs": [
    {
     "name": "stdout",
     "output_type": "stream",
     "text": [
      "[[ 6  6]\n",
      " [14 14]]\n"
     ]
    }
   ],
   "source": [
    "F1 = np.array([[1,2], [3,4]])\n",
    "F2 = np.array([[2,2], [2,2]])\n",
    "print(F1 @ F2)"
   ]
  },
  {
   "cell_type": "code",
   "execution_count": 102,
   "metadata": {},
   "outputs": [
    {
     "name": "stdout",
     "output_type": "stream",
     "text": [
      "[[ 2  1 -2]\n",
      " [ 3  0  1]\n",
      " [ 1  1 -1]]\n",
      "[[-3]\n",
      " [ 5]\n",
      " [-2]]\n",
      "[[ 1.]\n",
      " [-1.]\n",
      " [ 2.]]\n"
     ]
    },
    {
     "data": {
      "text/plain": [
       "array([[ 1.],\n",
       "       [-1.],\n",
       "       [ 2.]])"
      ]
     },
     "execution_count": 102,
     "metadata": {},
     "output_type": "execute_result"
    }
   ],
   "source": [
    "A = np.array([[2,1,-2],[3,0,1],[1,1,-1]])\n",
    "print(A)\n",
    "\n",
    "b = np.transpose(np.array([[-3,5,-2]]))\n",
    "print(b)                \n",
    "x = np.linalg.solve(A,b)\n",
    "print(x)\n",
    "np.matmul(np.linalg.inv(A),b) "
   ]
  },
  {
   "cell_type": "code",
   "execution_count": 107,
   "metadata": {},
   "outputs": [
    {
     "name": "stdout",
     "output_type": "stream",
     "text": [
      "1.0\n",
      "1.0\n",
      "1.0\n",
      "cos theta :  0.0\n",
      "1.5707963267948966\n",
      "90.0\n"
     ]
    }
   ],
   "source": [
    "a = np.array([0,1,0])\n",
    "b = np.array([1,0,0])\n",
    "res = np.dot(a,b)\n",
    "print(np.linalg.norm(a))\n",
    "print(np.linalg.norm(b))\n",
    "print(np.linalg.norm(a) * np.linalg.norm(b))\n",
    "rad = res/ (np.linalg.norm(a) * np.linalg.norm(b))\n",
    "print('cos theta : ', rad)\n",
    "print(np.arccos(rad))\n",
    "print(np.degrees(np.arccos(rad)))"
   ]
  },
  {
   "cell_type": "code",
   "execution_count": 109,
   "metadata": {},
   "outputs": [
    {
     "name": "stdout",
     "output_type": "stream",
     "text": [
      "5.0\n",
      "5.0\n",
      "[[1. 1.]\n",
      " [1. 1.]]\n",
      "공분산 :  [[1. 1.]\n",
      " [1. 1.]]\n",
      "상관계수 :  [[1. 1.]\n",
      " [1. 1.]]\n"
     ]
    }
   ],
   "source": [
    "x = np.array([1,2,3])\n",
    "y = np.array([4,5,6])\n",
    "print(y.mean())\n",
    "print(np.median(y))\n",
    "\n",
    "print(np.corrcoef(x,y))\n",
    "print('공분산 : ', np.cov(x,y))\n",
    "print('상관계수 : ', np.corrcoef(x,y))"
   ]
  },
  {
   "cell_type": "code",
   "execution_count": 112,
   "metadata": {},
   "outputs": [
    {
     "name": "stdout",
     "output_type": "stream",
     "text": [
      "범위 7\n",
      "열범위 [4 5 7]\n",
      "분위수 4.0\n",
      "[5. 4. 4.]\n",
      "행중위수 [3. 4. 5.]\n",
      "열중위수 [5. 5. 5.]\n"
     ]
    }
   ],
   "source": [
    "a = np.array([[3,7,5],[8,4,3],[2,4,9]])\n",
    "print('범위', np.ptp(a))   # ptp (peak to peak)\n",
    "print('열범위', np.ptp(a, axis=1))   # axis : 축방향(=열방향) -> 행의 합계나 평균\n",
    "print('분위수', np.percentile(a, 50))   # 4분위수 이상치 계산 시 Q3 - Q1 = IQR (inter quantile range) 범위 *1.5\n",
    "print(np.percentile(a, 50, axis=1))\n",
    "print('행중위수', np.median(a, axis=0))   # 축을 지정해서 방향을 부여\n",
    "print('열중위수', np.mean(a, axis=1))"
   ]
  }
 ],
 "metadata": {
  "kernelspec": {
   "display_name": "Python 3",
   "language": "python",
   "name": "python3"
  },
  "language_info": {
   "codemirror_mode": {
    "name": "ipython",
    "version": 3
   },
   "file_extension": ".py",
   "mimetype": "text/x-python",
   "name": "python",
   "nbconvert_exporter": "python",
   "pygments_lexer": "ipython3",
   "version": "3.8.3"
  }
 },
 "nbformat": 4,
 "nbformat_minor": 4
}
