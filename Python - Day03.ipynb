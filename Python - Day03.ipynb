{
 "cells": [
  {
   "cell_type": "markdown",
   "metadata": {},
   "source": [
    "# Day 03"
   ]
  },
  {
   "cell_type": "markdown",
   "metadata": {},
   "source": [
    "# 사용자 정의 함수"
   ]
  },
  {
   "cell_type": "code",
   "execution_count": 11,
   "metadata": {},
   "outputs": [
    {
     "name": "stdout",
     "output_type": "stream",
     "text": [
      "30\n",
      "70\n",
      "입력한 두 수의 합은 10 + 20 = 30 입니다.\n"
     ]
    }
   ],
   "source": [
    "a = 10 ; b=20 ; result = a+b\n",
    "print(result)\n",
    "\n",
    "\n",
    "def addvalue(a,b):\n",
    "    return a+b\n",
    "print(addvalue(30,40))\n",
    "\n",
    "\n",
    "\n",
    "def hab(a,b):\n",
    "    c=a+b\n",
    "    print(\"입력한 두 수의 합은\", a, \"+\", b, \"=\", c, \"입니다.\")\n",
    "hab(10,20)\n"
   ]
  },
  {
   "cell_type": "markdown",
   "metadata": {},
   "source": [
    "두 수를 더해서 10보다 작으면 '10보다 작다'\n",
    "               10보다 크면 '10보다 크다'\n",
    "    위의 메세지를 출력하고, 각 매개변수를 더한 값을 리턴하는 함수 작성"
   ]
  },
  {
   "cell_type": "code",
   "execution_count": 14,
   "metadata": {},
   "outputs": [
    {
     "name": "stdout",
     "output_type": "stream",
     "text": [
      "입력된 두 값의 합은 7 이는 10보다 작다.\n",
      "입력된 두 값의 합은 10 이는 10과 같다.\n",
      "입력된 두 값의 합은 12 이는 10보다 크다.\n"
     ]
    },
    {
     "data": {
      "text/plain": [
       "12"
      ]
     },
     "execution_count": 14,
     "metadata": {},
     "output_type": "execute_result"
    }
   ],
   "source": [
    "def exercise01(a,b):\n",
    "    c=a+b\n",
    "    if c<10: print(\"입력된 두 값의 합은\",c,\"이는 10보다 작다.\")\n",
    "    elif c==10: print(\"입력된 두 값의 합은\",c,\"이는 10과 같다.\")\n",
    "    elif c>10: print(\"입력된 두 값의 합은\",c,\"이는 10보다 크다.\")\n",
    "    return c\n",
    "\n",
    "exercise01(2,5)\n",
    "exercise01(5,5)\n",
    "exercise01(6,6)"
   ]
  },
  {
   "cell_type": "markdown",
   "metadata": {},
   "source": [
    "# 매개변수\n",
    "- required\n",
    "- default\n",
    "- keyword\n",
    "- variable-length\n",
    "    - *: list 로 취급.\n",
    "    - **: dict 로 취급."
   ]
  },
  {
   "cell_type": "code",
   "execution_count": 18,
   "metadata": {},
   "outputs": [
    {
     "name": "stdout",
     "output_type": "stream",
     "text": [
      "함수 내부에서 출력 : [10, 20, 30, [1, 2, 3, 4]]\n",
      "함수 외부에서 출력 : [10, 20, 30, [1, 2, 3, 4]]\n"
     ]
    }
   ],
   "source": [
    "# 매개변수 전달 방식\n",
    "def exercise02(mylist):\n",
    "    mylist.append([1,2,3,4])\n",
    "    print(\"함수 내부에서 출력 :\", mylist)\n",
    "    return\n",
    "mylist = [10,20,30]\n",
    "exercise02(mylist)\n",
    "print(\"함수 외부에서 출력 :\", mylist)"
   ]
  },
  {
   "cell_type": "code",
   "execution_count": 20,
   "metadata": {},
   "outputs": [
    {
     "name": "stdout",
     "output_type": "stream",
     "text": [
      "시작\n",
      "1,2,3,\n",
      "1,2,3,4,5,6,\n",
      "args is  (1, 2)\n",
      "kwargs is  {'z': 5}\n",
      "1\n",
      "2\n",
      "5\n"
     ]
    },
    {
     "data": {
      "text/plain": [
       "0.6"
      ]
     },
     "execution_count": 20,
     "metadata": {},
     "output_type": "execute_result"
    }
   ],
   "source": [
    "# 변동 매개변수\n",
    "def exercise03(*args):\n",
    "    for i in args:\n",
    "        print(i, end=',')\n",
    "    print()\n",
    "print('시작')\n",
    "exercise03(1,2,3)\n",
    "exercise03(1,2,3,4,5,6)\n",
    "\n",
    "\n",
    "def exercise04(f, *args, **kwargs):\n",
    "    print(\"args is \", args)\n",
    "    print(\"kwargs is \", kwargs)\n",
    "    return f(*args, **kwargs)\n",
    "\n",
    "def g(x, y, z=1):\n",
    "    print(x)\n",
    "    print(y)\n",
    "    print(z)\n",
    "    return (x+y)/z\n",
    "exercise04(g, 1,2,z=5)"
   ]
  },
  {
   "cell_type": "code",
   "execution_count": 1,
   "metadata": {},
   "outputs": [
    {
     "name": "stdout",
     "output_type": "stream",
     "text": [
      "8\n"
     ]
    }
   ],
   "source": [
    "# 재귀함수\n",
    "def power(r,n):\n",
    "    if n==1:\n",
    "        return r\n",
    "    else:\n",
    "        return r*power(r,n-1)\n",
    "print(power(2,3))"
   ]
  },
  {
   "cell_type": "code",
   "execution_count": 9,
   "metadata": {},
   "outputs": [
    {
     "name": "stdout",
     "output_type": "stream",
     "text": [
      "24\n"
     ]
    }
   ],
   "source": [
    "# factorial 구현\n",
    "def factorial(r):\n",
    "    if r==1:\n",
    "        return r\n",
    "    else:\n",
    "        return r*factorial(r-1)\n",
    "print(factorial(4))"
   ]
  },
  {
   "cell_type": "code",
   "execution_count": 10,
   "metadata": {},
   "outputs": [
    {
     "name": "stdout",
     "output_type": "stream",
     "text": [
      "2.8284271247461903\n"
     ]
    }
   ],
   "source": [
    "# 문제\n",
    "# 두 점 사이의 거리를 구하는 함수 생성.\n",
    "import math\n",
    "def distance_between_points(x1, y1, x2, y2):\n",
    "    dx = x1-x2\n",
    "    dy = y1-y2\n",
    "    dist = math.sqrt(dx**2 + dy**2)\n",
    "    return dist\n",
    "print(distance_between_points(1,2,3,4))"
   ]
  },
  {
   "cell_type": "code",
   "execution_count": 20,
   "metadata": {},
   "outputs": [
    {
     "name": "stdout",
     "output_type": "stream",
     "text": [
      "0.7167524709809102\n",
      "0.9069512559017749\n",
      "0.9980775276769499\n",
      "0.6821326737572388\n",
      "0.9012308310466807\n"
     ]
    }
   ],
   "source": [
    "import random\n",
    "def generator_test(n):\n",
    "    while n>0:\n",
    "        yield random.random()\n",
    "        n -=1\n",
    "gd = generator_test(5)\n",
    "for i in gd:\n",
    "    print(i)"
   ]
  },
  {
   "cell_type": "code",
   "execution_count": 21,
   "metadata": {},
   "outputs": [
    {
     "name": "stdout",
     "output_type": "stream",
     "text": [
      "python's recipe no.1\n",
      "R's recipe no.2\n"
     ]
    },
    {
     "data": {
      "text/plain": [
       "(1994901260464, 1994901261472)"
      ]
     },
     "execution_count": 21,
     "metadata": {},
     "output_type": "execute_result"
    }
   ],
   "source": [
    "def cookbook(name):\n",
    "    def recipe(no):\n",
    "        print(\"%s's recipe no.%d\" %(name, no))\n",
    "    return recipe\n",
    "python_recipe = cookbook('python')\n",
    "R_recipe = cookbook('R')\n",
    "python_recipe(1)\n",
    "R_recipe(2)\n",
    "id(python_recipe), id(R_recipe)"
   ]
  },
  {
   "cell_type": "markdown",
   "metadata": {},
   "source": [
    "# 연습문제\n",
    "총근무시간과 시간당 급여를 입력받아 주급을 게산하는 프로그램 작성.\n",
    "- 40시간 초과시 1.5배 지급.\n",
    "- 매개변수는 시간당 급여, 주작업시간."
   ]
  },
  {
   "cell_type": "code",
   "execution_count": 28,
   "metadata": {},
   "outputs": [
    {
     "name": "stdout",
     "output_type": "stream",
     "text": [
      "총 근무시간 입력 : 41\n",
      "시간당 급여 입력 : 8000\n",
      "40시간을 초과하여 주휴수당이 적용됩니다.\n",
      "주급은 =  332000.0 원 입니다.\n"
     ]
    },
    {
     "data": {
      "text/plain": [
       "332000.0"
      ]
     },
     "execution_count": 28,
     "metadata": {},
     "output_type": "execute_result"
    }
   ],
   "source": [
    "tot_work_hour = int(input(\"총 근무시간 입력 : \"))\n",
    "sal_per_hour = int(input(\"시간당 급여 입력 : \"))\n",
    "\n",
    "def weeks_sal(tot_work_hour, sal_per_hour):\n",
    "    if tot_work_hour <=40:\n",
    "        sal_per_weeks = tot_work_hour  * sal_per_hour\n",
    "        print(\"주급은 = \", sal_per_weeks, \"원 입니다.\")\n",
    "        return sal_per_weeks\n",
    "    else:\n",
    "        sal_per_weeks = (40 * sal_per_hour) + (tot_work_hour - 40) * sal_per_hour * 1.5\n",
    "        print(\"40시간을 초과하여 주휴수당이 적용됩니다.\")\n",
    "        print(\"주급은 = \", sal_per_weeks, \"원 입니다.\")\n",
    "        return sal_per_weeks\n",
    "    \n",
    "\n",
    "weeks_sal(tot_work_hour, sal_per_hour)"
   ]
  }
 ],
 "metadata": {
  "kernelspec": {
   "display_name": "Python 3",
   "language": "python",
   "name": "python3"
  },
  "language_info": {
   "codemirror_mode": {
    "name": "ipython",
    "version": 3
   },
   "file_extension": ".py",
   "mimetype": "text/x-python",
   "name": "python",
   "nbconvert_exporter": "python",
   "pygments_lexer": "ipython3",
   "version": "3.8.3"
  }
 },
 "nbformat": 4,
 "nbformat_minor": 4
}
